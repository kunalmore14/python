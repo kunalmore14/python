{
 "cells": [
  {
   "cell_type": "code",
   "execution_count": 1,
   "id": "18f368af",
   "metadata": {},
   "outputs": [
    {
     "name": "stdout",
     "output_type": "stream",
     "text": [
      "Manisha Varma\n"
     ]
    }
   ],
   "source": [
    "print(\"Manisha Varma\")"
   ]
  },
  {
   "cell_type": "code",
   "execution_count": 2,
   "id": "efc143b9",
   "metadata": {},
   "outputs": [],
   "source": [
    "a=8"
   ]
  },
  {
   "cell_type": "code",
   "execution_count": 3,
   "id": "6b0060b6",
   "metadata": {},
   "outputs": [
    {
     "name": "stdout",
     "output_type": "stream",
     "text": [
      "8\n"
     ]
    }
   ],
   "source": [
    "print(a)"
   ]
  },
  {
   "cell_type": "code",
   "execution_count": 5,
   "id": "3dd3e7e5",
   "metadata": {},
   "outputs": [],
   "source": [
    "b='manisha'"
   ]
  },
  {
   "cell_type": "code",
   "execution_count": 6,
   "id": "20df2848",
   "metadata": {},
   "outputs": [],
   "source": [
    "c='pravin'"
   ]
  },
  {
   "cell_type": "code",
   "execution_count": 7,
   "id": "be933e19",
   "metadata": {},
   "outputs": [],
   "source": [
    "d='varma'"
   ]
  },
  {
   "cell_type": "code",
   "execution_count": 9,
   "id": "c092ef88",
   "metadata": {},
   "outputs": [
    {
     "name": "stdout",
     "output_type": "stream",
     "text": [
      "manisha pravin varma\n"
     ]
    }
   ],
   "source": [
    "print(b+' '+c+' '+d)"
   ]
  },
  {
   "cell_type": "code",
   "execution_count": 10,
   "id": "0c0ae9af",
   "metadata": {},
   "outputs": [],
   "source": [
    "g='manisha'"
   ]
  },
  {
   "cell_type": "code",
   "execution_count": 13,
   "id": "9ce09859",
   "metadata": {},
   "outputs": [],
   "source": [
    "h=\"1103\""
   ]
  },
  {
   "cell_type": "code",
   "execution_count": 12,
   "id": "912b373e",
   "metadata": {},
   "outputs": [],
   "source": [
    "i='@hotmail.com'"
   ]
  },
  {
   "cell_type": "code",
   "execution_count": 14,
   "id": "035fee6b",
   "metadata": {},
   "outputs": [
    {
     "name": "stdout",
     "output_type": "stream",
     "text": [
      "manisha1103@hotmail.com\n"
     ]
    }
   ],
   "source": [
    "print(g+h+i)\n"
   ]
  },
  {
   "cell_type": "code",
   "execution_count": 15,
   "id": "ce8b0c8f",
   "metadata": {},
   "outputs": [
    {
     "name": "stdout",
     "output_type": "stream",
     "text": [
      "manisha\n",
      "pravin\n",
      "varma\n"
     ]
    }
   ],
   "source": [
    "print('manisha\\npravin\\nvarma')"
   ]
  },
  {
   "cell_type": "code",
   "execution_count": 16,
   "id": "702ed0f6",
   "metadata": {},
   "outputs": [
    {
     "name": "stdout",
     "output_type": "stream",
     "text": [
      "COMPUTER\n",
      "Develearn\n"
     ]
    }
   ],
   "source": [
    "print('COMPUTER\\nDevelearn')\n"
   ]
  },
  {
   "cell_type": "code",
   "execution_count": null,
   "id": "0b3711fd",
   "metadata": {},
   "outputs": [],
   "source": []
  }
 ],
 "metadata": {
  "kernelspec": {
   "display_name": "Python 3 (ipykernel)",
   "language": "python",
   "name": "python3"
  },
  "language_info": {
   "codemirror_mode": {
    "name": "ipython",
    "version": 3
   },
   "file_extension": ".py",
   "mimetype": "text/x-python",
   "name": "python",
   "nbconvert_exporter": "python",
   "pygments_lexer": "ipython3",
   "version": "3.9.7"
  }
 },
 "nbformat": 4,
 "nbformat_minor": 5
}
