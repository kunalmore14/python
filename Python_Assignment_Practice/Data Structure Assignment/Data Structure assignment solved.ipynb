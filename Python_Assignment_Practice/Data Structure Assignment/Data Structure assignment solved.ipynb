{
 "cells": [
  {
   "cell_type": "code",
   "execution_count": 21,
   "id": "56d9734e",
   "metadata": {},
   "outputs": [
    {
     "data": {
      "text/plain": [
       "[1, 2, 3, 4, 5, 6]"
      ]
     },
     "execution_count": 21,
     "metadata": {},
     "output_type": "execute_result"
    }
   ],
   "source": [
    "\"\"\"1. Make new list from two existing list which contain duplicate values,output should be unique.\"\"\"\n",
    "list1 = [1,2,3,5,6,5,4]\n",
    "list2 = [2,3,4,5,4,1,3]\n",
    "list3 = list(set(list1 + list2))\n",
    "list3"
   ]
  },
  {
   "cell_type": "code",
   "execution_count": 22,
   "id": "398c16e5",
   "metadata": {},
   "outputs": [
    {
     "data": {
      "text/plain": [
       "(1, 2, 3, 4, 5)"
      ]
     },
     "execution_count": 22,
     "metadata": {},
     "output_type": "execute_result"
    }
   ],
   "source": [
    "\"\"\"2. Find unique tuple from existing tuple which contains lot of duplicate values.\"\"\"\n",
    "tuple1 = (1,2,3,3,2,3,4,5,3)\n",
    "tuple1 = tuple(set(tuple1))\n",
    "tuple1"
   ]
  },
  {
   "cell_type": "code",
   "execution_count": 33,
   "id": "b3228212",
   "metadata": {},
   "outputs": [
    {
     "data": {
      "text/plain": [
       "([1, 2, 3, 4, 5, 6, 7, 8, 9, 10], '&', [1, 8])"
      ]
     },
     "execution_count": 33,
     "metadata": {},
     "output_type": "execute_result"
    }
   ],
   "source": [
    "'3.' \n",
    "A = [1,2,3,4,5]\n",
    "B = [1,6,7,8]\n",
    "C = [8,9,10]\n",
    "union = list(set(A+B+C)) ,\"&\", B[0:4:3]\n",
    "union\n",
    "    "
   ]
  },
  {
   "cell_type": "code",
   "execution_count": 7,
   "id": "eea5c322",
   "metadata": {},
   "outputs": [
    {
     "name": "stdout",
     "output_type": "stream",
     "text": [
      "[1, 2, 3, 4, 5, 6, 7, 8, 9, 10]\n",
      "[]\n"
     ]
    }
   ],
   "source": [
    "A = [1, 2, 3, 4, 5]\n",
    "B = [1, 6, 7, 8]\n",
    "C = [8, 9, 10]\n",
    "\n",
    "# Combine all lists and convert to sets to get unique elements\n",
    "combined_unique = list(set(A + B + C))\n",
    "\n",
    "# Find elements common to all three lists\n",
    "common_elements = list(set(A) & set(B) & set(C))\n",
    "\n",
    "print(combined_unique)  # Output: [1, 2, 3, 4, 5, 6, 7, 8, 9, 10]\n",
    "print(common_elements)  # Output: [8, 1]\n"
   ]
  },
  {
   "cell_type": "code",
   "execution_count": 19,
   "id": "ce11ea7d",
   "metadata": {},
   "outputs": [
    {
     "name": "stdout",
     "output_type": "stream",
     "text": [
      "[1, 2, 3, 4, 5, 6, 7, 8, 9, 10]\n",
      "[8, 1]\n"
     ]
    }
   ],
   "source": [
    "A = [1, 2, 3, 4, 5]\n",
    "B = [1, 6, 7, 8]\n",
    "C = [8, 9, 10]\n",
    "\n",
    "# Combine all lists and convert to set to get unique values\n",
    "combined_list = A + B + C\n",
    "unique_values = list(set(combined_list))\n",
    "\n",
    "# Sort the unique values\n",
    "unique_values.sort()\n",
    "\n",
    "# Find the common elements between lists B and C\n",
    "common_elements = list(set(B).intersection(C))\n",
    "CMO1 = list(set(A).intersection(B))\n",
    "COMM = CMO1 + common_elements \n",
    "commm = list(set(COMM))\n",
    "print(unique_values)  # Output: [1, 2, 3, 4, 5, 6, 7, 8, 9, 10]\n",
    "print(commm)  # Output: [8]\n"
   ]
  },
  {
   "cell_type": "code",
   "execution_count": null,
   "id": "e342d977",
   "metadata": {},
   "outputs": [],
   "source": []
  },
  {
   "cell_type": "code",
   "execution_count": null,
   "id": "a64b3c37",
   "metadata": {},
   "outputs": [],
   "source": []
  }
 ],
 "metadata": {
  "kernelspec": {
   "display_name": "Python 3 (ipykernel)",
   "language": "python",
   "name": "python3"
  },
  "language_info": {
   "codemirror_mode": {
    "name": "ipython",
    "version": 3
   },
   "file_extension": ".py",
   "mimetype": "text/x-python",
   "name": "python",
   "nbconvert_exporter": "python",
   "pygments_lexer": "ipython3",
   "version": "3.9.12"
  },
  "varInspector": {
   "cols": {
    "lenName": 16,
    "lenType": 16,
    "lenVar": 40
   },
   "kernels_config": {
    "python": {
     "delete_cmd_postfix": "",
     "delete_cmd_prefix": "del ",
     "library": "var_list.py",
     "varRefreshCmd": "print(var_dic_list())"
    },
    "r": {
     "delete_cmd_postfix": ") ",
     "delete_cmd_prefix": "rm(",
     "library": "var_list.r",
     "varRefreshCmd": "cat(var_dic_list()) "
    }
   },
   "types_to_exclude": [
    "module",
    "function",
    "builtin_function_or_method",
    "instance",
    "_Feature"
   ],
   "window_display": false
  }
 },
 "nbformat": 4,
 "nbformat_minor": 5
}
