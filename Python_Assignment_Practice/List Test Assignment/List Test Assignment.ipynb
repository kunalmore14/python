{
 "cells": [
  {
   "cell_type": "code",
   "execution_count": 2,
   "id": "468e8283",
   "metadata": {},
   "outputs": [
    {
     "data": {
      "text/plain": [
       "['kunal', 24, 'data scientist', 'mumbai']"
      ]
     },
     "execution_count": 2,
     "metadata": {},
     "output_type": "execute_result"
    }
   ],
   "source": [
    "#1 Create list of your name,age, field ,location using [] and list constructor\n",
    "kunal = ['kunal',24,'data scientist','mumbai']\n",
    "kunal"
   ]
  },
  {
   "cell_type": "code",
   "execution_count": 3,
   "id": "33e8a2fc",
   "metadata": {},
   "outputs": [
    {
     "data": {
      "text/plain": [
       "'data scientist'"
      ]
     },
     "execution_count": 3,
     "metadata": {},
     "output_type": "execute_result"
    }
   ],
   "source": [
    "#2 print only your field using index method\n",
    "kunal[2]"
   ]
  },
  {
   "cell_type": "code",
   "execution_count": 4,
   "id": "67040078",
   "metadata": {},
   "outputs": [
    {
     "data": {
      "text/plain": [
       "3"
      ]
     },
     "execution_count": 4,
     "metadata": {},
     "output_type": "execute_result"
    }
   ],
   "source": [
    "#3 print the position of location element\n",
    "kunal.index('mumbai')"
   ]
  },
  {
   "cell_type": "code",
   "execution_count": 5,
   "id": "c0e5109f",
   "metadata": {},
   "outputs": [
    {
     "data": {
      "text/plain": [
       "['data scientist']"
      ]
     },
     "execution_count": 5,
     "metadata": {},
     "output_type": "execute_result"
    }
   ],
   "source": [
    "#4 print element btw age and locaton ,using forward and backward indexing\n",
    "kunal[2:3]"
   ]
  },
  {
   "cell_type": "code",
   "execution_count": 6,
   "id": "cf54f4a4",
   "metadata": {},
   "outputs": [
    {
     "data": {
      "text/plain": [
       "['more', 24, 'data scientist', 'mumbai']"
      ]
     },
     "execution_count": 6,
     "metadata": {},
     "output_type": "execute_result"
    }
   ],
   "source": [
    "#5 replace the element of name with surname\n",
    "kunal[0] = 'more'\n",
    "kunal"
   ]
  },
  {
   "cell_type": "code",
   "execution_count": 7,
   "id": "3d4aea24",
   "metadata": {},
   "outputs": [
    {
     "data": {
      "text/plain": [
       "['ayush', 17, 'doctor', 'mumbai']"
      ]
     },
     "execution_count": 7,
     "metadata": {},
     "output_type": "execute_result"
    }
   ],
   "source": [
    "#6 replace the element of name ,age and field\n",
    "new_info = ['ayush',17,'doctor']\n",
    "kunal[0:3] = new_info\n",
    "kunal"
   ]
  },
  {
   "cell_type": "code",
   "execution_count": 8,
   "id": "5c2a9067",
   "metadata": {},
   "outputs": [
    {
     "data": {
      "text/plain": [
       "['more', 'doctor', 'mumbai']"
      ]
     },
     "execution_count": 8,
     "metadata": {},
     "output_type": "execute_result"
    }
   ],
   "source": [
    "#7 replace the element of name,age with only surname\n",
    "kunal[0:2] = ['more']\n",
    "kunal"
   ]
  },
  {
   "cell_type": "code",
   "execution_count": 9,
   "id": "a92d04db",
   "metadata": {},
   "outputs": [
    {
     "data": {
      "text/plain": [
       "[['bhai', 'more'], 'doctor', 'mumbai']"
      ]
     },
     "execution_count": 9,
     "metadata": {},
     "output_type": "execute_result"
    }
   ],
   "source": [
    "#8 replace the element of name with your nickname and surname'\n",
    "kunal[0] = ['bhai','more']\n",
    "kunal"
   ]
  },
  {
   "cell_type": "code",
   "execution_count": 10,
   "id": "15a87c04",
   "metadata": {},
   "outputs": [
    {
     "data": {
      "text/plain": [
       "['kunal', 'more', 'mumbai']"
      ]
     },
     "execution_count": 10,
     "metadata": {},
     "output_type": "execute_result"
    }
   ],
   "source": [
    "#9 add your surname in the list after your first name\n",
    "kunal[0:2] = ['kunal','more']\n",
    "kunal"
   ]
  },
  {
   "cell_type": "code",
   "execution_count": 11,
   "id": "9a0dc6f3",
   "metadata": {},
   "outputs": [
    {
     "data": {
      "text/plain": [
       "['kunal', 'more', 'mumbai', 'watching movies']"
      ]
     },
     "execution_count": 11,
     "metadata": {},
     "output_type": "execute_result"
    }
   ],
   "source": [
    "kunal.append('watching movies')\n",
    "kunal"
   ]
  },
  {
   "cell_type": "code",
   "execution_count": 12,
   "id": "ff6be357",
   "metadata": {},
   "outputs": [
    {
     "name": "stdout",
     "output_type": "stream",
     "text": [
      "['kunal', 'more', 'mumbai', 'watching movies', 'football', 'cricket', 'basketball']\n"
     ]
    }
   ],
   "source": [
    "#11 add your n-numbers of hobbies at the end of list\n",
    "kunal.extend(['football','cricket','basketball'])\n",
    "print(kunal)"
   ]
  },
  {
   "cell_type": "code",
   "execution_count": 13,
   "id": "2e392e92",
   "metadata": {},
   "outputs": [
    {
     "data": {
      "text/plain": [
       "['kunal', 'more', 'watching movies', 'football', 'cricket', 'basketball']"
      ]
     },
     "execution_count": 13,
     "metadata": {},
     "output_type": "execute_result"
    }
   ],
   "source": [
    "#12 remove your location from list\n",
    "kunal.remove('mumbai')\n",
    "kunal"
   ]
  },
  {
   "cell_type": "code",
   "execution_count": 14,
   "id": "6b5757c5",
   "metadata": {},
   "outputs": [
    {
     "data": {
      "text/plain": [
       "['kunal', 'more', 'watching movies', 'football', 'cricket', 'basketball']"
      ]
     },
     "execution_count": 14,
     "metadata": {},
     "output_type": "execute_result"
    }
   ],
   "source": [
    "#13 remove your age from list[using 2 methods]\n",
    "kunal.append(24)\n",
    "kunal.remove(24)\n",
    "#kunal.pop(6)\n",
    "kunal"
   ]
  },
  {
   "cell_type": "code",
   "execution_count": 15,
   "id": "eb65332b",
   "metadata": {},
   "outputs": [
    {
     "data": {
      "text/plain": [
       "['kunal', 'more', 'watching movies', 'football', 'cricket']"
      ]
     },
     "execution_count": 15,
     "metadata": {},
     "output_type": "execute_result"
    }
   ],
   "source": [
    "#14 remove last element from the list\n",
    "kunal.pop()\n",
    "kunal"
   ]
  },
  {
   "cell_type": "code",
   "execution_count": 16,
   "id": "98f24d99",
   "metadata": {},
   "outputs": [
    {
     "data": {
      "text/plain": [
       "[]"
      ]
     },
     "execution_count": 16,
     "metadata": {},
     "output_type": "execute_result"
    }
   ],
   "source": [
    "#15 remove all element from the list(empty)\n",
    "kunal.clear()\n",
    "kunal"
   ]
  },
  {
   "cell_type": "code",
   "execution_count": 17,
   "id": "7babff40",
   "metadata": {},
   "outputs": [],
   "source": [
    "#16 delete the list\n",
    "del kunal"
   ]
  },
  {
   "cell_type": "code",
   "execution_count": 26,
   "id": "7654f58e",
   "metadata": {},
   "outputs": [
    {
     "data": {
      "text/plain": [
       "8"
      ]
     },
     "execution_count": 26,
     "metadata": {},
     "output_type": "execute_result"
    }
   ],
   "source": [
    "#17 create a list of prime numbers till 20 and find the length of it\n",
    "prime = [1,3,5,7,11,13,17,19]\n",
    "len(prime)"
   ]
  },
  {
   "cell_type": "code",
   "execution_count": 27,
   "id": "ef65af68",
   "metadata": {},
   "outputs": [
    {
     "name": "stdout",
     "output_type": "stream",
     "text": [
      "[2, 5, 7, 12, 18]\n",
      "[18, 12, 7, 5, 2]\n"
     ]
    }
   ],
   "source": [
    "#18 create a list of 5,2,18,7,12 and print in ascending and descending order\n",
    "list1 = [5,2,18,7,12]\n",
    "list1.sort()\n",
    "print(list1)\n",
    "list1.reverse()\n",
    "print(list1)"
   ]
  },
  {
   "cell_type": "code",
   "execution_count": 28,
   "id": "a5c6174e",
   "metadata": {},
   "outputs": [
    {
     "data": {
      "text/plain": [
       "[1, 3, 5, 7, 11, 13, 17, 19, 18, 12, 7, 5, 2]"
      ]
     },
     "execution_count": 28,
     "metadata": {},
     "output_type": "execute_result"
    }
   ],
   "source": [
    "#19 merge two list\n",
    "list2 = prime + list1\n",
    "list2"
   ]
  },
  {
   "cell_type": "code",
   "execution_count": 29,
   "id": "61e9b1e4",
   "metadata": {},
   "outputs": [
    {
     "name": "stdout",
     "output_type": "stream",
     "text": [
      "[1, 3, 5, 7, 11, 13, 17, 19]\n",
      "[1, 3, 5, 7, 11, 13, 17, 19, 23]\n"
     ]
    }
   ],
   "source": [
    "#20 make a deep copy of list and check whether it is copying deeply or not\n",
    "list3 = prime\n",
    "print(list3)\n",
    "prime.append(23)\n",
    "print(list3)"
   ]
  },
  {
   "cell_type": "code",
   "execution_count": 31,
   "id": "d39e5d81",
   "metadata": {},
   "outputs": [
    {
     "name": "stdout",
     "output_type": "stream",
     "text": [
      "[1, 3, 5, 7, 11, 13, 17, 19, 23]\n",
      "[1, 3, 5, 7, 11, 13, 17, 19, 23, 29]\n",
      "[1, 3, 5, 7, 11, 13, 17, 19, 23]\n"
     ]
    }
   ],
   "source": [
    "#21 make a copy of list in that way  making changes in one list will not affect to the another list\n",
    "list4 = prime.copy()\n",
    "print(list4)\n",
    "prime.append(29)\n",
    "print(prime)\n",
    "print(list4)"
   ]
  },
  {
   "cell_type": "code",
   "execution_count": 32,
   "id": "d93e9a7f",
   "metadata": {},
   "outputs": [
    {
     "name": "stdout",
     "output_type": "stream",
     "text": [
      "['Amar', 'Akbar', 'Anthony', 'Ram', 'Iqbal']\n"
     ]
    }
   ],
   "source": [
    "#22 Take any example to  explain stack and queue \n",
    "#working of append() and pop() function:\n",
    "# stack using list\n",
    "stack = [\"Amar\", \"Akbar\", \"Anthony\"]\n",
    "stack.append(\"Ram\")\n",
    "stack.append(\"Iqbal\")\n",
    "print(stack)"
   ]
  },
  {
   "cell_type": "code",
   "execution_count": 33,
   "id": "50f750c9",
   "metadata": {},
   "outputs": [
    {
     "name": "stdout",
     "output_type": "stream",
     "text": [
      "['Amar', 'Akbar', 'Anthony']\n"
     ]
    }
   ],
   "source": [
    "stack.pop()\n",
    "stack.pop()\n",
    "print(stack)"
   ]
  },
  {
   "cell_type": "code",
   "execution_count": 35,
   "id": "4791d1d6",
   "metadata": {},
   "outputs": [
    {
     "name": "stdout",
     "output_type": "stream",
     "text": [
      "['Amar', 'Akbar', 'Anthony', 'Ram', 'Iqbal']\n",
      "['Anthony', 'Ram', 'Iqbal']\n"
     ]
    }
   ],
   "source": [
    "# queue using list \n",
    "queue = [\"Amar\", \"Akbar\", \"Anthony\"]\n",
    "queue.append(\"Ram\")\n",
    "queue.append(\"Iqbal\")\n",
    "print(queue)\n",
    "queue.pop(0)\n",
    "queue.pop(0)\n",
    "print(queue)"
   ]
  },
  {
   "cell_type": "code",
   "execution_count": 39,
   "id": "b1e65b1d",
   "metadata": {},
   "outputs": [
    {
     "name": "stdout",
     "output_type": "stream",
     "text": [
      "[(1, 'kunal', 21, 100), (2, 'ayush', 22, 101), (3, 'sushil', 23, 102), (4, 'priya', 24, 103)]\n"
     ]
    }
   ],
   "source": [
    "#23 zip four list contain with natural number your name,age, rollno\n",
    "no = (1,2,3,4)\n",
    "name = ('kunal','ayush','sushil','priya')\n",
    "age = (21,22,23,24)\n",
    "rollno = (100,101,102,103)\n",
    "mapped = zip(no,name,age,rollno)\n",
    "mapped = list(mapped)\n",
    "print(mapped)"
   ]
  },
  {
   "cell_type": "code",
   "execution_count": 43,
   "id": "66ccb14a",
   "metadata": {},
   "outputs": [
    {
     "name": "stdout",
     "output_type": "stream",
     "text": [
      "(1, 2, 3, 4)\n",
      "('kunal', 'ayush', 'sushil', 'priya')\n",
      "(21, 22, 23, 24)\n",
      "(100, 101, 102, 103)\n"
     ]
    }
   ],
   "source": [
    "#24 unzip the above list\n",
    "no,name,age,rollno = zip(*mapped)\n",
    "print(no)\n",
    "print(name)\n",
    "print(age)\n",
    "print(rollno)"
   ]
  },
  {
   "cell_type": "code",
   "execution_count": null,
   "id": "2ab462f0",
   "metadata": {},
   "outputs": [],
   "source": []
  }
 ],
 "metadata": {
  "kernelspec": {
   "display_name": "Python 3 (ipykernel)",
   "language": "python",
   "name": "python3"
  },
  "language_info": {
   "codemirror_mode": {
    "name": "ipython",
    "version": 3
   },
   "file_extension": ".py",
   "mimetype": "text/x-python",
   "name": "python",
   "nbconvert_exporter": "python",
   "pygments_lexer": "ipython3",
   "version": "3.9.12"
  },
  "varInspector": {
   "cols": {
    "lenName": 16,
    "lenType": 16,
    "lenVar": 40
   },
   "kernels_config": {
    "python": {
     "delete_cmd_postfix": "",
     "delete_cmd_prefix": "del ",
     "library": "var_list.py",
     "varRefreshCmd": "print(var_dic_list())"
    },
    "r": {
     "delete_cmd_postfix": ") ",
     "delete_cmd_prefix": "rm(",
     "library": "var_list.r",
     "varRefreshCmd": "cat(var_dic_list()) "
    }
   },
   "types_to_exclude": [
    "module",
    "function",
    "builtin_function_or_method",
    "instance",
    "_Feature"
   ],
   "window_display": false
  }
 },
 "nbformat": 4,
 "nbformat_minor": 5
}
