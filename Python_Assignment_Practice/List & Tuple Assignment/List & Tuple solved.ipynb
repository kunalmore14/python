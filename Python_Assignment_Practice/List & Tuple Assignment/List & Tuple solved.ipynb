{
 "cells": [
  {
   "cell_type": "code",
   "execution_count": 3,
   "id": "c4519cdc",
   "metadata": {},
   "outputs": [
    {
     "data": {
      "text/plain": [
       "['p', 'r', 'a', 'c', 't', 'i', 'c', 'e']"
      ]
     },
     "execution_count": 3,
     "metadata": {},
     "output_type": "execute_result"
    }
   ],
   "source": [
    "#Q.1. Write a code to convert the string “Practice” into list.\n",
    "string = 'practice'\n",
    "list1 = list(string)\n",
    "list1"
   ]
  },
  {
   "cell_type": "code",
   "execution_count": 7,
   "id": "757bcd6c",
   "metadata": {},
   "outputs": [
    {
     "data": {
      "text/plain": [
       "['a', '*', 'h', 'j', '?']"
      ]
     },
     "execution_count": 7,
     "metadata": {},
     "output_type": "execute_result"
    }
   ],
   "source": [
    "#Q.2. Write the output of the following:\n",
    "d = \"a*hj?\"\n",
    "list(d)"
   ]
  },
  {
   "cell_type": "code",
   "execution_count": 9,
   "id": "559d0208",
   "metadata": {},
   "outputs": [
    {
     "name": "stdout",
     "output_type": "stream",
     "text": [
      "Enter any StringPractice\n"
     ]
    },
    {
     "data": {
      "text/plain": [
       "['P', 'r', 'a', 'c', 't', 'i', 'c', 'e']"
      ]
     },
     "execution_count": 9,
     "metadata": {},
     "output_type": "execute_result"
    }
   ],
   "source": [
    "#Q.3. Write the output of the following:\n",
    "\n",
    "a = input(\"Enter any String\")\n",
    "#Enter any String : Practice \n",
    "list(a)"
   ]
  },
  {
   "cell_type": "code",
   "execution_count": 10,
   "id": "eee0f5a3",
   "metadata": {},
   "outputs": [
    {
     "name": "stdout",
     "output_type": "stream",
     "text": [
      "1\n",
      "5\n",
      "3\n",
      "4\n",
      "2\n"
     ]
    }
   ],
   "source": [
    "#Q.4.. Write the output of the following\n",
    "\n",
    "a = [1,2,3,4,5]\n",
    "print(a[0])\n",
    "print(a[-1])\n",
    "print(a[2])\n",
    "print(a[-2])\n",
    "print(a[1])"
   ]
  },
  {
   "cell_type": "code",
   "execution_count": 18,
   "id": "54dd7dd4",
   "metadata": {},
   "outputs": [
    {
     "data": {
      "text/plain": [
       "[1, 2, 3, 4, 5, 6, 7, 8]"
      ]
     },
     "execution_count": 18,
     "metadata": {},
     "output_type": "execute_result"
    }
   ],
   "source": [
    "#Q.5. Write the output of the following :\n",
    "\n",
    "#S. No Code              Output\n",
    "[1,2,3,4] == [4,3,2,1] #false\n",
    "[1,2,3,4] >  [4]       #false\n",
    "[1,2,3,4] != [1,2,3,4] #false\n",
    "[1,2,3,4] == [1,2,[3,4]] #false\n",
    "[1,2,3] == [1.0,2.0,3.0] #true\n",
    "a = [1,2,3,4]\n",
    "b = [5,6,7,8,]\n",
    "a+b"
   ]
  },
  {
   "cell_type": "code",
   "execution_count": 32,
   "id": "1fccd910",
   "metadata": {},
   "outputs": [
    {
     "name": "stdout",
     "output_type": "stream",
     "text": [
      "['P', 'r', 'a', 'c', 't', 'i', 'c', 'e', ' ', 'Q', 'u', 'e', 's', 't', 'i', 'o', 'n', 's', ' ', 'o', 'f', ' ', 'L', 'i', 's', 't', ' ', 'i', 'n', ' ', 'P', 'y', 't', 'h', 'o', 'n']\n",
      "36\n",
      "['r', 'a', 'c']\n",
      "['r', 'a', 'c', 't', 'i', 'c']\n",
      "['c', 't', 'i', 'c', 'e', ' ', 'Q', 'u', 'e', 's', 't', 'i', 'o', 'n', 's', ' ', 'o', 'f', ' ', 'L', 'i', 's', 't', ' ', 'i', 'n', ' ', 'P', 'y', 't', 'h', 'o', 'n']\n",
      "['P', 'r', 'a', 'c', 't']\n",
      "['t', 'i', 'c', 'e', ' ', 'Q', 'u', 'e', 's', 't', 'i', 'o', 'n']\n",
      "['o', 'h', 't']\n",
      "['r', 'a', 'c', 't', 'i', 'c']\n",
      "['r', 'c', 'i']\n",
      "['y', 't', 'h', 'o', 'n']\n",
      "['P', 'r', 'a', 'c']\n",
      "['o', 't']\n",
      "['e', 's', 't', 'i']\n",
      "['P', 'r', 'a', 'c', 't', 'i', 'c', 'e', ' ', 'Q', 'u', 'e', 's', 't', 'i', 'o', 'n', 's', ' ', 'o', 'f', ' ', 'L', 'i', 's', 't', ' ', 'i', 'n', ' ', 'P', 'y', 't', 'h', 'o', 'n']\n",
      "['P', 'a', 't', 'c', ' ', 'u', 's', 'i', 'n', ' ', 'f', 'L', 's', ' ', 'n', 'P', 't', 'o']\n",
      "['y', 't', 'h', 'o']\n",
      "['e', 'c', 'i', 't', 'c', 'a']\n",
      "['c', 't', 'i', 'c', 'e', ' ', 'Q', 'u', 'e', 's', 't', 'i', 'o', 'n', 's', ' ', 'o', 'f', ' ', 'L', 'i', 's', 't', ' ', 'i', 'n', ' ', 'P', 'y', 't']\n",
      "['P', 'y', 't', 'h', 'o', 'n']\n",
      "['s', ' ', 'o', 'f', ' ', 'L', 'i', 's', 't', ' ', 'i', 'n', ' ', 'P', 'y', 't', 'h', 'o']\n",
      "['u', 'Q', ' ', 'e', 'c', 'i', 't', 'c', 'a', 'r', 'P']\n"
     ]
    }
   ],
   "source": [
    "#Q.6. Write the output of the following:\n",
    "b = 'Practice Questions of List in Python'\n",
    "a=list(b)\n",
    "print(a)\n",
    "print(len(a))\n",
    "print(a[1:4])\n",
    "print(a[1:7])\n",
    "print(a[3:])\n",
    "print(a[:5])\n",
    "print(a[4:17])\n",
    "print(a[-2:-5:-1])\n",
    "print(a[1:7:1])\n",
    "print(a[1:7:2])\n",
    "print(a[-5:])\n",
    "print(a[:4])\n",
    "print(a[-2:-5:-2])\n",
    "print(a[11:15])\n",
    "print(a[:])\n",
    "print(a[::2])\n",
    "print(a[-5:-1])\n",
    "print(a[7:1:-1])\n",
    "print(a[3:-3])\n",
    "print(a[30:40])\n",
    "print(a[17:-1])\n",
    "print(a[10::-1])"
   ]
  },
  {
   "cell_type": "code",
   "execution_count": 33,
   "id": "40c1bce5",
   "metadata": {},
   "outputs": [
    {
     "name": "stdout",
     "output_type": "stream",
     "text": [
      "(1, 2, 3, 4, 5, 6, 7, 8)\n",
      "(1, 2, 3, 4, 5, 6, 7, 8, 1, 2, 3, 4, 5, 6, 7, 8)\n",
      "(1, 2, 3, 4, 5, 6, 7, 8, 1, 2, 3, 4, 5, 6, 7, 8)\n",
      "16\n"
     ]
    }
   ],
   "source": [
    "#Q.7. Write the output of the following code :\n",
    "T1 = (1, 2, 3, 4, 5, 6, 7, 8)\n",
    "print(T1)\n",
    "print(T1 * 2) \n",
    "print(T1 + T1) \n",
    "print(len(T1) * 2)"
   ]
  },
  {
   "cell_type": "code",
   "execution_count": 37,
   "id": "b7f6a9de",
   "metadata": {},
   "outputs": [
    {
     "name": "stdout",
     "output_type": "stream",
     "text": [
      "1\n",
      "8\n",
      "6\n",
      "4\n",
      "2\n"
     ]
    }
   ],
   "source": [
    "#Q.8. Write the output of the following code :\n",
    "T1 = (1, 2, 3, 4, 5, 6, 7, 8)\n",
    "print(T1[0])\n",
    "print(T1[-1])\n",
    "print(T1[2 + 3])\n",
    "print(T1[4 - 1])\n",
    "print(T1[7%2]) "
   ]
  },
  {
   "cell_type": "code",
   "execution_count": 38,
   "id": "b0257575",
   "metadata": {},
   "outputs": [
    {
     "name": "stdout",
     "output_type": "stream",
     "text": [
      "34\n",
      "10\n",
      "3\n",
      "1\n"
     ]
    }
   ],
   "source": [
    "#Q.9. Write the output of the following :\n",
    "T1 = (23, 32, 4, 5, 2, 12, 23, 7, 9, 10, 23)\n",
    "print(len(T1) + T1[-1]) \n",
    "print(T1[T1.count(23) + len(T1) -5])\n",
    "print(T1.count(T1[6]))\n",
    "print(T1.count(max(T1)))"
   ]
  },
  {
   "cell_type": "code",
   "execution_count": 39,
   "id": "2080ee62",
   "metadata": {},
   "outputs": [
    {
     "name": "stdout",
     "output_type": "stream",
     "text": [
      "Hockey\n",
      "Cricket\n"
     ]
    }
   ],
   "source": [
    "#Q.10. Write the output of the following :\n",
    "T1 = ('Hockey', 'Cricket', 'Football')\n",
    "print(max(T1))\n",
    "print(min(T1))"
   ]
  },
  {
   "cell_type": "code",
   "execution_count": 40,
   "id": "cdf20907",
   "metadata": {},
   "outputs": [
    {
     "name": "stdout",
     "output_type": "stream",
     "text": [
      "Raman\n",
      "Ram\n"
     ]
    }
   ],
   "source": [
    "#Q.11. Write the output of the following :\n",
    "T1 = ('Raman', 'Ram', 'Ramaiya')\n",
    "print(max(T1))\n",
    "print(min(T1))"
   ]
  },
  {
   "cell_type": "code",
   "execution_count": 44,
   "id": "080b02b2",
   "metadata": {},
   "outputs": [
    {
     "name": "stdout",
     "output_type": "stream",
     "text": [
      "[2, 4, 5, 7, 9, 10, 12, 23, 23, 23, 32]\n",
      "[2, 4, 5, 12, 23]\n",
      "0\n",
      "6\n"
     ]
    }
   ],
   "source": [
    "#Q.12. Write the output of the following :\n",
    "T1 = (23, 32, 4, 5, 2, 12, 23, 7, 9, 10, 23)\n",
    "print(sorted(T1))\n",
    "print(sorted(T1[2 : 7]))\n",
    "print(T1.index(23))\n",
    "print(T1.index(23, 3, 9))"
   ]
  },
  {
   "cell_type": "code",
   "execution_count": 51,
   "id": "f93aee95",
   "metadata": {},
   "outputs": [
    {
     "data": {
      "text/plain": [
       "34"
      ]
     },
     "execution_count": 51,
     "metadata": {},
     "output_type": "execute_result"
    }
   ],
   "source": [
    "#Q.13. Write the output of the following :\n",
    "T1 = (23, 32, 4, 5, 2, 12, 23, 7, 9, 10, 23)\n",
    "#print (sum(max(T1) + min(T1))) error has occured\n",
    "t1 = max(T1) + min(T1)# we used this code\n",
    "t1"
   ]
  },
  {
   "cell_type": "code",
   "execution_count": 55,
   "id": "7c6edadd",
   "metadata": {},
   "outputs": [
    {
     "data": {
      "text/plain": [
       "30"
      ]
     },
     "execution_count": 55,
     "metadata": {},
     "output_type": "execute_result"
    }
   ],
   "source": [
    "#Q.14. Write a statement to print 30 from the given tuple.\n",
    "a = ('Seventy', [1, 2, 3], (20, 30, 40), 'Eighty')\n",
    "a[2][1]"
   ]
  },
  {
   "cell_type": "code",
   "execution_count": 56,
   "id": "0d3c8ca1",
   "metadata": {},
   "outputs": [
    {
     "name": "stdout",
     "output_type": "stream",
     "text": [
      "50 8050\n"
     ]
    }
   ],
   "source": [
    "#Q.15. Write the output.\n",
    "p=10\n",
    "q=20\n",
    "p=p*q//4 #8\n",
    "q=p+q**3 # \n",
    "print(p,q)"
   ]
  },
  {
   "cell_type": "code",
   "execution_count": 57,
   "id": "d2d5ceca",
   "metadata": {},
   "outputs": [
    {
     "name": "stdout",
     "output_type": "stream",
     "text": [
      "6.0\n"
     ]
    }
   ],
   "source": [
    "#Q.16. Write the output.\n",
    "x=2\n",
    "y=6\n",
    "x=x+y/2 + y//4\n",
    "print(x)"
   ]
  },
  {
   "cell_type": "code",
   "execution_count": 67,
   "id": "2e049ca2",
   "metadata": {},
   "outputs": [
    {
     "name": "stdout",
     "output_type": "stream",
     "text": [
      "None\n"
     ]
    }
   ],
   "source": [
    "#Q.17. Write the output of the following:\n",
    "T = [1,2,3,4]\n",
    "T1 = 3\n",
    "T2 = T.append(T1)\n",
    "print(T2)\n",
    "#In this code, there's a misconception in the use of the append() method. The append() method in Python does not \n",
    "#return the modified list; it actually returns None. Therefore, assigning the result of T.append(T1) to T2 will set T2 as None."
   ]
  },
  {
   "cell_type": "code",
   "execution_count": 68,
   "id": "58729618",
   "metadata": {},
   "outputs": [
    {
     "data": {
      "text/plain": [
       "False"
      ]
     },
     "execution_count": 68,
     "metadata": {},
     "output_type": "execute_result"
    }
   ],
   "source": [
    "#Q.18. Write the output\n",
    "t1 = (1,2,4,3)\n",
    "t2 = (1,2,3,4)\n",
    "t1 < t2 "
   ]
  },
  {
   "cell_type": "code",
   "execution_count": 73,
   "id": "07e5af04",
   "metadata": {},
   "outputs": [
    {
     "name": "stdout",
     "output_type": "stream",
     "text": [
      "[[5], 2, 3, 4] [[5], 2, 3, 4] [1, 2, 3, 4] [1, 2, 3, 4]\n"
     ]
    }
   ],
   "source": [
    "#Q.19. Write the output\n",
    "L1 = [1,2,3,4]\n",
    "L2 = L1\n",
    "L3 = L1.copy()\n",
    "L4 = L3\n",
    "L1[0] = [5]\n",
    "print(L1, L2, L3, L4)"
   ]
  },
  {
   "cell_type": "code",
   "execution_count": 81,
   "id": "7a7928ec",
   "metadata": {},
   "outputs": [
    {
     "name": "stdout",
     "output_type": "stream",
     "text": [
      "[[1, [2, 3], 4], 7, 8, 9]\n",
      "11\n"
     ]
    }
   ],
   "source": [
    "#Q.20. Write the output\n",
    "L1 = []\n",
    "L1.append([1, [2, 3], 4])\n",
    "L1.extend([7, 8, 9])\n",
    "print(L1) \n",
    "print(L1[0][1][1] + L1[2])"
   ]
  },
  {
   "cell_type": "code",
   "execution_count": 92,
   "id": "ef5a4329",
   "metadata": {},
   "outputs": [
    {
     "name": "stdout",
     "output_type": "stream",
     "text": [
      "8\n",
      "7\n",
      "1\n",
      "10\n",
      "(1, 23, 4, 5, 'A')\n",
      "(['C', 'D'], (23, 45), 45)\n",
      "4\n",
      "(45, ['C', 'D'], 5)\n"
     ]
    }
   ],
   "source": [
    "#Q.21. Write the output\n",
    "\n",
    "t1 = (1, 23, 4, 5, 'A', ['C', 'D'], (23, 45), 45)\n",
    "print(len(t1))\n",
    "print(t1.index(45))\n",
    "print(t1.count(45))\n",
    "print([5][0]*2)\n",
    "print(t1[:5])\n",
    "print(t1[5:])\n",
    "print(t1.index('A'))\n",
    "print(t1[-1:-7:-2])\n",
    "print(max(t1))\n",
    "print(t1[4] + t1[5])"
   ]
  },
  {
   "cell_type": "code",
   "execution_count": 93,
   "id": "6923eea3",
   "metadata": {},
   "outputs": [
    {
     "name": "stdout",
     "output_type": "stream",
     "text": [
      "1\n",
      "8\n",
      "6\n",
      "4\n",
      "2\n"
     ]
    }
   ],
   "source": [
    "#Q. 22. Write the output\n",
    "t1 = (1,2,3,4,5,6,7,8)\n",
    "print(t1[0])\n",
    "print(t1[-1])\n",
    "print(t1[2+3])\n",
    "print(t1[4-1])\n",
    "print(t1[7%2])"
   ]
  },
  {
   "cell_type": "code",
   "execution_count": 94,
   "id": "bafa8a63",
   "metadata": {},
   "outputs": [
    {
     "name": "stdout",
     "output_type": "stream",
     "text": [
      "Abc.def\n"
     ]
    }
   ],
   "source": [
    "#Q. 23 Write the output.\n",
    "\n",
    "print(\"abc.DEF\".capitalize())"
   ]
  },
  {
   "cell_type": "code",
   "execution_count": 104,
   "id": "0a50013f",
   "metadata": {},
   "outputs": [
    {
     "name": "stdout",
     "output_type": "stream",
     "text": [
      "512\n",
      "64\n",
      "512\n"
     ]
    }
   ],
   "source": [
    "#Q. 24 Write the output\n",
    "\n",
    "print(2**(3**2)) \n",
    "print((2**3)**2) \n",
    "print(2**3**2)"
   ]
  },
  {
   "cell_type": "code",
   "execution_count": 105,
   "id": "93b71d14",
   "metadata": {},
   "outputs": [
    {
     "name": "stdout",
     "output_type": "stream",
     "text": [
      "1.0\n"
     ]
    }
   ],
   "source": [
    "#Q. 25.  Write the output\n",
    "print(True**False/True)"
   ]
  },
  {
   "cell_type": "code",
   "execution_count": 106,
   "id": "aaa7b233",
   "metadata": {},
   "outputs": [
    {
     "data": {
      "text/plain": [
       "False"
      ]
     },
     "execution_count": 106,
     "metadata": {},
     "output_type": "execute_result"
    }
   ],
   "source": [
    "#Q. 26. Write the output\n",
    "all([2,4,0,6])"
   ]
  }
 ],
 "metadata": {
  "kernelspec": {
   "display_name": "Python 3 (ipykernel)",
   "language": "python",
   "name": "python3"
  },
  "language_info": {
   "codemirror_mode": {
    "name": "ipython",
    "version": 3
   },
   "file_extension": ".py",
   "mimetype": "text/x-python",
   "name": "python",
   "nbconvert_exporter": "python",
   "pygments_lexer": "ipython3",
   "version": "3.9.12"
  },
  "varInspector": {
   "cols": {
    "lenName": 16,
    "lenType": 16,
    "lenVar": 40
   },
   "kernels_config": {
    "python": {
     "delete_cmd_postfix": "",
     "delete_cmd_prefix": "del ",
     "library": "var_list.py",
     "varRefreshCmd": "print(var_dic_list())"
    },
    "r": {
     "delete_cmd_postfix": ") ",
     "delete_cmd_prefix": "rm(",
     "library": "var_list.r",
     "varRefreshCmd": "cat(var_dic_list()) "
    }
   },
   "types_to_exclude": [
    "module",
    "function",
    "builtin_function_or_method",
    "instance",
    "_Feature"
   ],
   "window_display": false
  }
 },
 "nbformat": 4,
 "nbformat_minor": 5
}
