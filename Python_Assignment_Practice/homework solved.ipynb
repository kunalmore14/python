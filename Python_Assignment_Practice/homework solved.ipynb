{
 "cells": [
  {
   "cell_type": "markdown",
   "id": "eb8efe4e",
   "metadata": {},
   "source": [
    "# String"
   ]
  },
  {
   "cell_type": "code",
   "execution_count": 18,
   "id": "31b6c670",
   "metadata": {},
   "outputs": [
    {
     "data": {
      "text/plain": [
       "'I love python program'"
      ]
     },
     "execution_count": 18,
     "metadata": {},
     "output_type": "execute_result"
    }
   ],
   "source": [
    "\"\"\"Q1.write a code to get the following ouput....\n",
    "output-: 'I love python program'\"\"\"\n",
    "x ='i LoVe pYtHoN PrOGrAm'\n",
    "x.capitalize()"
   ]
  },
  {
   "cell_type": "code",
   "execution_count": 19,
   "id": "d447d093",
   "metadata": {},
   "outputs": [
    {
     "data": {
      "text/plain": [
       "'I Love Python Program'"
      ]
     },
     "execution_count": 19,
     "metadata": {},
     "output_type": "execute_result"
    }
   ],
   "source": [
    "\"\"\"Q2.write a code to get the following ouput....\n",
    "output-: 'I Love Python Program'\"\"\"\n",
    "x.title()"
   ]
  },
  {
   "cell_type": "code",
   "execution_count": 20,
   "id": "dd6e4667",
   "metadata": {},
   "outputs": [
    {
     "data": {
      "text/plain": [
       "'i love python program'"
      ]
     },
     "execution_count": 20,
     "metadata": {},
     "output_type": "execute_result"
    }
   ],
   "source": [
    "\"\"\"Q3.write a code to get the following ouput....\n",
    "output-: 'i love python program'\"\"\"\n",
    "x.lower()"
   ]
  },
  {
   "cell_type": "code",
   "execution_count": 21,
   "id": "ec7c00bf",
   "metadata": {},
   "outputs": [
    {
     "data": {
      "text/plain": [
       "'I LOVE PYTHON PROGRAM'"
      ]
     },
     "execution_count": 21,
     "metadata": {},
     "output_type": "execute_result"
    }
   ],
   "source": [
    "\"\"\"Q4.write a code to get the following ouput....\n",
    "output-: 'I LOVE PYTHON PROGRAM'\"\"\"\n",
    "x.upper()"
   ]
  },
  {
   "cell_type": "code",
   "execution_count": 22,
   "id": "eb852dd1",
   "metadata": {},
   "outputs": [
    {
     "data": {
      "text/plain": [
       "['i', 'LoVe', 'pYtHoN', 'PrOGrAm']"
      ]
     },
     "execution_count": 22,
     "metadata": {},
     "output_type": "execute_result"
    }
   ],
   "source": [
    "\"\"\"Q5.write a code to get the following ouput....\n",
    "output-: ['i', 'LoVe', 'pYtHoN', 'PrOGrAm']\"\"\"\n",
    "x.split()"
   ]
  },
  {
   "cell_type": "code",
   "execution_count": 23,
   "id": "4147f73a",
   "metadata": {},
   "outputs": [
    {
     "name": "stdout",
     "output_type": "stream",
     "text": [
      "my name is python and my age is 30\n"
     ]
    }
   ],
   "source": [
    "\"\"\"Q6.use format method to inject the following name and age\n",
    "variable in given variable named string\n",
    "output-: 'my name is python and my age is 30'\"\"\"\n",
    "name=\"python\"\n",
    "age=30\n",
    "string=\"my name is {} and my age is {}\"\n",
    "formatted_string = string.format(name, age)\n",
    "print(formatted_string)"
   ]
  },
  {
   "cell_type": "code",
   "execution_count": 34,
   "id": "433ba564",
   "metadata": {},
   "outputs": [
    {
     "data": {
      "text/plain": [
       "'pYtHoN'"
      ]
     },
     "execution_count": 34,
     "metadata": {},
     "output_type": "execute_result"
    }
   ],
   "source": [
    "\"\"\"Q7.write a code to retrieve the word 'pYtHoN' by using slicing\n",
    "from variable x\n",
    "output-: 'pYtHoN'\"\"\"\n",
    "x.split(',')\n",
    "x[7:13]"
   ]
  },
  {
   "cell_type": "markdown",
   "id": "af67cb04",
   "metadata": {},
   "source": [
    "# Tuple"
   ]
  },
  {
   "cell_type": "code",
   "execution_count": 7,
   "id": "c3787eff",
   "metadata": {},
   "outputs": [
    {
     "data": {
      "text/plain": [
       "4"
      ]
     },
     "execution_count": 7,
     "metadata": {},
     "output_type": "execute_result"
    }
   ],
   "source": [
    "t = (2,1,4,6,2,1,4,1,2,7,1)\n",
    "#Q1.write the code to count the frequency of 1\n",
    "t.count(1)"
   ]
  },
  {
   "cell_type": "code",
   "execution_count": 13,
   "id": "b50fdb58",
   "metadata": {},
   "outputs": [
    {
     "data": {
      "text/plain": [
       "(2, 1, 4, 6, 2, 1, 4, 1, 2, 7, 1, 11, 12, 13, 14)"
      ]
     },
     "execution_count": 13,
     "metadata": {},
     "output_type": "execute_result"
    }
   ],
   "source": [
    "#Q2.write a code to merge tuple t with (11,12,13,14) & store in variable named newt\n",
    "sample = list(t)\n",
    "sample.extend([11,12,13,14])\n",
    "newt = tuple(sample)\n",
    "newt"
   ]
  },
  {
   "cell_type": "markdown",
   "id": "8749ff3f",
   "metadata": {},
   "source": [
    "# List"
   ]
  },
  {
   "cell_type": "code",
   "execution_count": 68,
   "id": "6040b4b4",
   "metadata": {},
   "outputs": [
    {
     "data": {
      "text/plain": [
       "[2, 4, 6, 8, 10, 'eleven']"
      ]
     },
     "execution_count": 68,
     "metadata": {},
     "output_type": "execute_result"
    }
   ],
   "source": [
    "x = [2,4,6,8,10]\n",
    "#Q1.write a code to add a element 'eleven' , inside list at the end\n",
    "#output-:[2,4,6,8,10,'eleven']\n",
    "x.append('eleven')\n",
    "x"
   ]
  },
  {
   "cell_type": "code",
   "execution_count": 69,
   "id": "6e40368d",
   "metadata": {},
   "outputs": [
    {
     "data": {
      "text/plain": [
       "['One', 2, 4, 6, 8, 10, 'eleven']"
      ]
     },
     "execution_count": 69,
     "metadata": {},
     "output_type": "execute_result"
    }
   ],
   "source": [
    "#Q2.perform an operation to get the following output\n",
    "#output-: ['one', 2, 4, 6, 8, 10, 'eleven']\n",
    "x.insert(0,'One')\n",
    "x"
   ]
  },
  {
   "cell_type": "code",
   "execution_count": 70,
   "id": "d7fd4228",
   "metadata": {},
   "outputs": [
    {
     "data": {
      "text/plain": [
       "['One', 2, 4, 6, 8, 10, 'eleven', 12, 13, 14]"
      ]
     },
     "execution_count": 70,
     "metadata": {},
     "output_type": "execute_result"
    }
   ],
   "source": [
    "#Q3.perform an operation to merge the list y inside list x\n",
    "#output-: ['one', 2, 4, 6, 8, 10, 'eleven', 12, 13, 14]\n",
    "y= [12,13,14]\n",
    "x.extend(y)\n",
    "x"
   ]
  },
  {
   "cell_type": "code",
   "execution_count": 71,
   "id": "2f21e083",
   "metadata": {},
   "outputs": [
    {
     "data": {
      "text/plain": [
       "[14, 13, 12, 'eleven', 10, 8, 6, 4, 2, 'One']"
      ]
     },
     "execution_count": 71,
     "metadata": {},
     "output_type": "execute_result"
    }
   ],
   "source": [
    "#Q4.perform an operation to get the following output\n",
    "#output-: [14, 13, 12, 'eleven', 10, 8, 6, 4, 2, 'one']\n",
    "x[::-1]"
   ]
  },
  {
   "cell_type": "code",
   "execution_count": 72,
   "id": "b452ea92",
   "metadata": {},
   "outputs": [
    {
     "name": "stdout",
     "output_type": "stream",
     "text": [
      "[14, 13, 12, 6, 4, 2, 'one']\n"
     ]
    }
   ],
   "source": [
    "#Q5.Perform one single operation to remove 'eleven', 10, 8 all together at once\n",
    "#output-: [14, 13, 12, 6, 4, 2, 'one']\n",
    "original_list = [14, 'eleven', 13, 12, 10, 8, 6, 4, 2, 'one']\n",
    "result_list = [x for x in original_list if x not in ['eleven', 10, 8]]\n",
    "print(result_list)"
   ]
  },
  {
   "cell_type": "code",
   "execution_count": 74,
   "id": "083cb60e",
   "metadata": {},
   "outputs": [
    {
     "data": {
      "text/plain": [
       "[2, 4, 6, 8, 10, 'eleven', 12, 13, 14]"
      ]
     },
     "execution_count": 74,
     "metadata": {},
     "output_type": "execute_result"
    }
   ],
   "source": [
    "#Q6.write a code to remove 'one' element from the list\n",
    "#output-: [14, 13, 12, 6, 4, 2]\n",
    "x.remove('One')\n",
    "x"
   ]
  },
  {
   "cell_type": "code",
   "execution_count": 84,
   "id": "abdcbe84",
   "metadata": {},
   "outputs": [
    {
     "data": {
      "text/plain": [
       "'hey there hello world'"
      ]
     },
     "execution_count": 84,
     "metadata": {},
     "output_type": "execute_result"
    }
   ],
   "source": [
    "#Q7.write a code to get the following output\n",
    "x = [\"hey\",\"there\",\"hello\",\"world\"]\n",
    "y= \" \"\n",
    "#output-: 'hey there hello world'\n",
    "y = y.join(x)\n",
    "y"
   ]
  },
  {
   "cell_type": "markdown",
   "id": "09d48807",
   "metadata": {},
   "source": [
    "# Set"
   ]
  },
  {
   "cell_type": "code",
   "execution_count": 88,
   "id": "2a7b084b",
   "metadata": {},
   "outputs": [
    {
     "data": {
      "text/plain": [
       "{1, 2, 3, 4, 5, 6, 7, 8, 9}"
      ]
     },
     "execution_count": 88,
     "metadata": {},
     "output_type": "execute_result"
    }
   ],
   "source": [
    "a = {1,2,3,4,5}\n",
    "b = {3,4,5,6,7,8,9}\n",
    "#Q1. Write a code to perform union operation on a and b set\n",
    "x = a.union(b)\n",
    "x"
   ]
  },
  {
   "cell_type": "code",
   "execution_count": 89,
   "id": "afd180ef",
   "metadata": {},
   "outputs": [
    {
     "data": {
      "text/plain": [
       "{3, 4, 5}"
      ]
     },
     "execution_count": 89,
     "metadata": {},
     "output_type": "execute_result"
    }
   ],
   "source": [
    "#Q2. Write a code to perform intersection operation on set a and b\n",
    "y = a & b\n",
    "y"
   ]
  },
  {
   "cell_type": "code",
   "execution_count": 91,
   "id": "14e576c5",
   "metadata": {},
   "outputs": [
    {
     "data": {
      "text/plain": [
       "{1, 2, 3, 4, 5, 6}"
      ]
     },
     "execution_count": 91,
     "metadata": {},
     "output_type": "execute_result"
    }
   ],
   "source": [
    "#Q3. Write a code to add 6, in set a\n",
    "a.add(6)\n",
    "a"
   ]
  },
  {
   "cell_type": "markdown",
   "id": "097ef665",
   "metadata": {},
   "source": [
    "# Dictionary"
   ]
  },
  {
   "cell_type": "code",
   "execution_count": 20,
   "id": "94f38a53",
   "metadata": {},
   "outputs": [
    {
     "data": {
      "text/plain": [
       "{'a': 10, 'b': 300, 'c': 50, 'd': 100}"
      ]
     },
     "execution_count": 20,
     "metadata": {},
     "output_type": "execute_result"
    }
   ],
   "source": [
    "d = {'a':10,'b':30,'c':50,'d':100}\n",
    "#Q1.write a code to update the value of key 'b' to 300\n",
    "#output-: {'a':10,'b':300,'c':50,'d':100}\n",
    "d['b'] = 300\n",
    "d"
   ]
  },
  {
   "cell_type": "code",
   "execution_count": 21,
   "id": "f8bbdf63",
   "metadata": {},
   "outputs": [
    {
     "name": "stdout",
     "output_type": "stream",
     "text": [
      "does not exist\n"
     ]
    }
   ],
   "source": [
    "#Q2.write a code to check if key 'e' is present in dictionary d\n",
    "#if it 'e' is not present in d, then it should return 'e key does not\n",
    "#exist'\n",
    "#output-: 'e key does not exist'\n",
    "d = {'a':10,'b':30,'c':50,'d':100}\n",
    "if 'e' in d:\n",
    "    print('exists')\n",
    "else:\n",
    "    print('does not exist')"
   ]
  },
  {
   "cell_type": "code",
   "execution_count": 22,
   "id": "fa4d4d88",
   "metadata": {},
   "outputs": [
    {
     "data": {
      "text/plain": [
       "{'a': 10, 'b': 30, 'c': 50, 'd': 100, 'e': 600}"
      ]
     },
     "execution_count": 22,
     "metadata": {},
     "output_type": "execute_result"
    }
   ],
   "source": [
    "#Q3.write a code to add new key,value i.e 'e',600 respectively\n",
    "#inside dictionary d\n",
    "#output-: {'a':10,'b':300,'c':50,'d':100,'e':600}\n",
    "d.update({'e':600})\n",
    "d"
   ]
  },
  {
   "cell_type": "code",
   "execution_count": 23,
   "id": "f18dcd70",
   "metadata": {},
   "outputs": [
    {
     "data": {
      "text/plain": [
       "dict_values([10, 30, 50, 100, 600])"
      ]
     },
     "execution_count": 23,
     "metadata": {},
     "output_type": "execute_result"
    }
   ],
   "source": [
    "#Q4.write a code to display all the values from the dictionary\n",
    "#output-: dict_values([10, 300, 50, 100, 600])\n",
    "d.values()"
   ]
  },
  {
   "cell_type": "code",
   "execution_count": 24,
   "id": "c2460b47",
   "metadata": {},
   "outputs": [
    {
     "name": "stdout",
     "output_type": "stream",
     "text": [
      "{'a': 10, 'b': 30, 'c': 50, 'd': 100, 'e': 600, 'i': 11, 'j': 12, 'k': 13, 'l': 14}\n"
     ]
    }
   ],
   "source": [
    "#Q5.write a code to merge the dictionary x inside dictionry d\n",
    "x = {'i':11,'j':12,'k':13,'l':14}\n",
    "#output-: {'a':10,'b':300,'c':50,'d':100,'e':600,'i':11,'j':12,'k':13,'l':14}\n",
    "d.update(x)\n",
    "print(d)"
   ]
  },
  {
   "cell_type": "code",
   "execution_count": 25,
   "id": "161fbd81",
   "metadata": {},
   "outputs": [
    {
     "name": "stdout",
     "output_type": "stream",
     "text": [
      "{'a': 10, 'b': 30, 'c': 50, 'd': 100, 'e': 600, 'i': 11, 'k': 13, 'l': 14}\n"
     ]
    }
   ],
   "source": [
    "#Q6.write a code to remove the key 'j' from dictionary d\n",
    "#output-: {'a':10,'b':300,'c':50,'d':100,'e':600,'i':11,'k':13,'l':14}\n",
    "d.pop('j')\n",
    "print(d)"
   ]
  },
  {
   "cell_type": "markdown",
   "id": "626c0adb",
   "metadata": {},
   "source": [
    "# Operators"
   ]
  },
  {
   "cell_type": "code",
   "execution_count": 1,
   "id": "dbc1c98a",
   "metadata": {},
   "outputs": [
    {
     "name": "stdout",
     "output_type": "stream",
     "text": [
      "25.0\n"
     ]
    }
   ],
   "source": [
    "#Area of triangle (0.5*b*h)\n",
    "b = 5\n",
    "h = 10\n",
    "Area_of_triangle = (0.5*b*h)\n",
    "print(Area_of_triangle)"
   ]
  },
  {
   "cell_type": "code",
   "execution_count": 2,
   "id": "88cc8181",
   "metadata": {},
   "outputs": [
    {
     "name": "stdout",
     "output_type": "stream",
     "text": [
      "523.3333333333334\n"
     ]
    }
   ],
   "source": [
    "#vol of sphere(4/3)*3.14*(r**3)\n",
    "r = 5\n",
    "vol_of_sphere = (4/3)*3.14*(r**3)\n",
    "print(vol_of_sphere)"
   ]
  },
  {
   "cell_type": "code",
   "execution_count": 4,
   "id": "169efd0e",
   "metadata": {},
   "outputs": [
    {
     "data": {
      "text/plain": [
       "(5, 10)"
      ]
     },
     "execution_count": 4,
     "metadata": {},
     "output_type": "execute_result"
    }
   ],
   "source": [
    "#Swap the variable x=10,y=5\n",
    "#o/p -: x is 5 & y is 10\n",
    "x=10\n",
    "y=5\n",
    "x,y = y,x\n",
    "x,y"
   ]
  },
  {
   "cell_type": "code",
   "execution_count": 11,
   "id": "989c3853",
   "metadata": {},
   "outputs": [
    {
     "name": "stdout",
     "output_type": "stream",
     "text": [
      "enter your no : 7\n",
      "enter your no : 5\n",
      "12\n",
      "35\n",
      "2\n",
      "1.4\n",
      "1\n",
      "2\n"
     ]
    }
   ],
   "source": [
    "#WAP which takes two numbers as input and it should calculate & \n",
    "#display all the arithmetic operation\n",
    "x = int(input('enter your no : ',))\n",
    "y = int(input('enter your no : ',))\n",
    "print(x+y)\n",
    "print(x*y)\n",
    "print(x-y)\n",
    "print(x/y)\n",
    "print(x//y)\n",
    "print(x%y)"
   ]
  },
  {
   "cell_type": "markdown",
   "id": "692e789d",
   "metadata": {},
   "source": [
    "# Flow Control\n"
   ]
  },
  {
   "cell_type": "code",
   "execution_count": 19,
   "id": "8ce30c18",
   "metadata": {},
   "outputs": [
    {
     "name": "stdout",
     "output_type": "stream",
     "text": [
      "Enter your first number: 7\n",
      "Enter your second number: 5\n",
      "Enter operator (+, -, *, /): *\n",
      "Result: 35\n"
     ]
    }
   ],
   "source": [
    "#WAP which takes an arithmetic operators & 2 numbers, as an and \n",
    "#do the calculation based on the input operator\n",
    "a = int(input('Enter your first number: '))\n",
    "b = int(input('Enter your second number: '))\n",
    "op = input('Enter operator (+, -, *, /): ')\n",
    "\n",
    "if op == '+':\n",
    "    result = a + b\n",
    "elif op == '-':\n",
    "    result = a - b\n",
    "elif op == '*':\n",
    "    result = a * b\n",
    "elif op == '/':\n",
    "    result = a / b if b != 0 else \"Division by zero is not allowed.\"\n",
    "else:\n",
    "    result = \"Invalid operator\"\n",
    "\n",
    "print(\"Result:\", result)\n"
   ]
  },
  {
   "cell_type": "code",
   "execution_count": 20,
   "id": "f5e8c9a0",
   "metadata": {},
   "outputs": [
    {
     "name": "stdout",
     "output_type": "stream",
     "text": [
      "63.0\n"
     ]
    }
   ],
   "source": [
    "#WAP to calculate area of triangle --> 0.5*b*h\n",
    "b = 7\n",
    "h = 18\n",
    "Area_of_triangle = (0.5*b*h)\n",
    "print(Area_of_triangle)"
   ]
  },
  {
   "cell_type": "code",
   "execution_count": 21,
   "id": "c84a2354",
   "metadata": {},
   "outputs": [
    {
     "name": "stdout",
     "output_type": "stream",
     "text": [
      "2143.5733333333333\n"
     ]
    }
   ],
   "source": [
    "#WAP to calculate vol of sphere --> (4/3)*3.14*(r**3)\n",
    "r = 8\n",
    "vol_of_sphere = (4/3)*3.14*(r**3)\n",
    "print(vol_of_sphere)"
   ]
  },
  {
   "cell_type": "code",
   "execution_count": 25,
   "id": "999c513b",
   "metadata": {},
   "outputs": [
    {
     "name": "stdout",
     "output_type": "stream",
     "text": [
      "enter leap year : 2000\n",
      "2000 is leap year\n"
     ]
    }
   ],
   "source": [
    "#WAP for check a number is leap year or not by using following constraints-:\n",
    "#Constraints-:\n",
    "#1. N div by 400 --> leap year\n",
    "#2. N div by 4 , N not div by 100 --> leap year\n",
    "n = int(input('enter leap year : ',))\n",
    "if n%400==0 or (n%4==0 & n%100!=0):\n",
    "    print(n,\"is leap year\")\n",
    "else:\n",
    "    print(n,\"not leap year\")"
   ]
  },
  {
   "cell_type": "code",
   "execution_count": 34,
   "id": "ac4f3d8a",
   "metadata": {},
   "outputs": [
    {
     "name": "stdout",
     "output_type": "stream",
     "text": [
      "enter your percentage : 67\n",
      "B grade\n"
     ]
    }
   ],
   "source": [
    "\"\"\"WAP to display the grade given a mark by using following constraint-:\n",
    "Constraints -:\n",
    "75 & above -: A grade\n",
    "60-74 -: B grade\n",
    "35-59 -: C grade\n",
    "Below 35 -: Fail\"\"\"\n",
    "n = int(input(\"enter your percentage : \",))\n",
    "if n>=75:\n",
    "    print('A grade')\n",
    "elif n>=60:\n",
    "    print(\"B grade\")\n",
    "elif n>35:\n",
    "    print('C grade')\n",
    "else:\n",
    "    print('fail')"
   ]
  },
  {
   "cell_type": "code",
   "execution_count": 37,
   "id": "1cf7ce3d",
   "metadata": {},
   "outputs": [
    {
     "name": "stdout",
     "output_type": "stream",
     "text": [
      "enter your no : 6\n",
      "6 is even\n"
     ]
    }
   ],
   "source": [
    "#WAP to check weather the number is even or odd\n",
    "#Constraints-:\n",
    "#N div by 2 → even\n",
    "n = int(input('enter your no : ',))\n",
    "if n%2==0:\n",
    "    print(n,'is even')\n",
    "else:\n",
    "    print(n,'is odd')"
   ]
  },
  {
   "cell_type": "markdown",
   "id": "cdba40b1",
   "metadata": {},
   "source": [
    "# Loops"
   ]
  },
  {
   "cell_type": "code",
   "execution_count": 39,
   "id": "0a0eecbe",
   "metadata": {},
   "outputs": [
    {
     "name": "stdout",
     "output_type": "stream",
     "text": [
      "0 1 2 3 4 5 6 7 8 9 10 "
     ]
    }
   ],
   "source": [
    "#WAP to print 1-10 using for loop\n",
    "for i in range(11):\n",
    "    print(i,end=' ')"
   ]
  },
  {
   "cell_type": "code",
   "execution_count": 41,
   "id": "73796479",
   "metadata": {},
   "outputs": [
    {
     "name": "stdout",
     "output_type": "stream",
     "text": [
      "10 9 8 7 6 5 4 3 2 1 "
     ]
    }
   ],
   "source": [
    "#WAP to print 10-1 using for loop\n",
    "for i in range(10,0,-1):\n",
    "    print(i,end=\" \")"
   ]
  },
  {
   "cell_type": "code",
   "execution_count": 45,
   "id": "959a3c81",
   "metadata": {},
   "outputs": [
    {
     "name": "stdout",
     "output_type": "stream",
     "text": [
      "Enter the number of terms: 5\n",
      "0 1 1 2 3 "
     ]
    }
   ],
   "source": [
    "n = int(input(\"Enter the number of terms: \"))\n",
    "\n",
    "# Initializing the first two terms of the Fibonacci series\n",
    "a, b = 0, 1\n",
    "\n",
    "# Printing the Fibonacci series using a for loop\n",
    "for i in range(n):\n",
    "    print(a, end=\" \")\n",
    "    a, b = b, a + b\n"
   ]
  },
  {
   "cell_type": "code",
   "execution_count": 47,
   "id": "87dcc807",
   "metadata": {},
   "outputs": [
    {
     "name": "stdout",
     "output_type": "stream",
     "text": [
      "enter your no : 5\n",
      "120\n"
     ]
    }
   ],
   "source": [
    "#WAP to calculate the factorial of number using for loop\n",
    "n = int(input('enter your no : '))\n",
    "fact = 1\n",
    "for i in range(1,n+1):\n",
    "    fact = fact*i\n",
    "print(fact)"
   ]
  },
  {
   "cell_type": "code",
   "execution_count": 48,
   "id": "876c8849",
   "metadata": {},
   "outputs": [
    {
     "name": "stdout",
     "output_type": "stream",
     "text": [
      "enter your no : 5\n",
      "15\n"
     ]
    }
   ],
   "source": [
    "#WAP to add 1st nth natural using for loop\n",
    "num = int(input('enter your no : '))\n",
    "sum = 0\n",
    "for i in range(1,num+1):\n",
    "    sum+=i\n",
    "print(sum)"
   ]
  },
  {
   "cell_type": "code",
   "execution_count": 51,
   "id": "749ee831",
   "metadata": {},
   "outputs": [
    {
     "name": "stdout",
     "output_type": "stream",
     "text": [
      "enter your no : 5\n",
      "5 x 1 = 5\n",
      "5 x 2 = 10\n",
      "5 x 3 = 15\n",
      "5 x 4 = 20\n",
      "5 x 5 = 25\n",
      "5 x 6 = 30\n",
      "5 x 7 = 35\n",
      "5 x 8 = 40\n",
      "5 x 9 = 45\n",
      "5 x 10 = 50\n"
     ]
    }
   ],
   "source": [
    "#WAP to print the table of given N using for loop\n",
    "num = int(input('enter your no : '))\n",
    "for i in range(1,11):\n",
    "    print(num,'x',i,\"=\",num*i)"
   ]
  },
  {
   "cell_type": "code",
   "execution_count": 1,
   "id": "fd0858ba",
   "metadata": {},
   "outputs": [
    {
     "name": "stdout",
     "output_type": "stream",
     "text": [
      "1 2 3 4 5 6 7 8 9 10 "
     ]
    }
   ],
   "source": [
    "#WAP to print 1-10 using while loop\n",
    "i = 1\n",
    "while i<=10:\n",
    "    print(i,end=\" \")\n",
    "    i+=1"
   ]
  },
  {
   "cell_type": "code",
   "execution_count": 4,
   "id": "033a1e9e",
   "metadata": {},
   "outputs": [
    {
     "name": "stdout",
     "output_type": "stream",
     "text": [
      "10 9 8 7 6 5 4 3 2 1 "
     ]
    }
   ],
   "source": [
    "#WAP to print 10-1 using while loop\n",
    "i = 10\n",
    "while i>=1:\n",
    "    print(i,end=\" \")\n",
    "    i = i-1\n",
    "    "
   ]
  },
  {
   "cell_type": "code",
   "execution_count": 3,
   "id": "33831959",
   "metadata": {},
   "outputs": [
    {
     "name": "stdout",
     "output_type": "stream",
     "text": [
      "enter your no : 5\n",
      "120\n"
     ]
    }
   ],
   "source": [
    "#WAP to calculate factorial of given input n using while loop\n",
    "num = int(input('enter your no : '))\n",
    "fact = 1\n",
    "i = 1\n",
    "while i<=num:\n",
    "    fact = fact*i\n",
    "    i+=1\n",
    "print(fact)"
   ]
  },
  {
   "cell_type": "code",
   "execution_count": 6,
   "id": "9ec67047",
   "metadata": {},
   "outputs": [
    {
     "name": "stdout",
     "output_type": "stream",
     "text": [
      "enter your no : 5\n",
      "15\n"
     ]
    }
   ],
   "source": [
    "#WAP to print the sum of 1st nth natural numbers using while loop\n",
    "num = int(input('enter your no : '))\n",
    "sum = 0\n",
    "i = 1\n",
    "while i<=num:\n",
    "    sum=sum+i\n",
    "    i+=1\n",
    "print(sum)"
   ]
  },
  {
   "cell_type": "code",
   "execution_count": 10,
   "id": "8377d9fd",
   "metadata": {},
   "outputs": [
    {
     "name": "stdout",
     "output_type": "stream",
     "text": [
      "enter your no : 5\n",
      "0 1 1 2 3 5 "
     ]
    }
   ],
   "source": [
    "#WAP to print fibonacci series till nth input value using while loop\n",
    "num = int(input('enter your no : '))\n",
    "a,b = 0,1\n",
    "while a<=num:\n",
    "    print(a,end=\" \")\n",
    "    a,b = b,a+b"
   ]
  },
  {
   "cell_type": "code",
   "execution_count": 12,
   "id": "a941ea81",
   "metadata": {},
   "outputs": [
    {
     "name": "stdout",
     "output_type": "stream",
     "text": [
      "enter your no : 5\n",
      "5 x 1 = 5\n",
      "5 x 2 = 10\n",
      "5 x 3 = 15\n",
      "5 x 4 = 20\n",
      "5 x 5 = 25\n",
      "5 x 6 = 30\n",
      "5 x 7 = 35\n",
      "5 x 8 = 40\n",
      "5 x 9 = 45\n",
      "5 x 10 = 50\n"
     ]
    }
   ],
   "source": [
    "#WAP to print the table of given N using while loop\n",
    "num = int(input('enter your no : '))\n",
    "i = 1\n",
    "while i<=10:\n",
    "    print(num,\"x\",i,\"=\",num*i)\n",
    "    i+=1"
   ]
  },
  {
   "cell_type": "code",
   "execution_count": 16,
   "id": "6bd53c83",
   "metadata": {},
   "outputs": [
    {
     "name": "stdout",
     "output_type": "stream",
     "text": [
      "[1904, 1908, 1912, 1916, 1920, 1924, 1928, 1932, 1936, 1940, 1944, 1948, 1952, 1956, 1960, 1964, 1968, 1972, 1976, 1980, 1984, 1988, 1992, 1996, 2000, 2004, 2008, 2012, 2016, 2020, 2024, 2028]\n"
     ]
    }
   ],
   "source": [
    "#WAP to list out all the leap years from 1900-2030 using for loop\n",
    "leap_year = []\n",
    "for i in range(1900,2030):\n",
    "    if i%400==0 or (i%4==0 and i%100!=0):\n",
    "        leap_year.append(i)\n",
    "print(leap_year)"
   ]
  },
  {
   "cell_type": "code",
   "execution_count": 20,
   "id": "c950f624",
   "metadata": {},
   "outputs": [
    {
     "name": "stdout",
     "output_type": "stream",
     "text": [
      "[2, 4, 6, 8, 10, 12, 14, 16, 18, 20, 22, 24, 26, 28, 30, 32, 34, 36, 38, 40, 42, 44, 46, 48, 50, 52, 54, 56, 58, 60, 62, 64, 66, 68, 70, 72, 74, 76, 78, 80, 82, 84, 86, 88, 90, 92, 94, 96, 98, 100]\n",
      "[1, 3, 5, 7, 9, 11, 13, 15, 17, 19, 21, 23, 25, 27, 29, 31, 33, 35, 37, 39, 41, 43, 45, 47, 49, 51, 53, 55, 57, 59, 61, 63, 65, 67, 69, 71, 73, 75, 77, 79, 81, 83, 85, 87, 89, 91, 93, 95, 97, 99]\n"
     ]
    }
   ],
   "source": [
    "#WAP to give all the even and odd number in list from 1-100 using for loop\n",
    "even = []\n",
    "odd = []\n",
    "for i in range(1,101):\n",
    "    if i%2==0:\n",
    "        even.append(i)\n",
    "    else:\n",
    "        odd.append(i)\n",
    "print(even)\n",
    "print(odd)"
   ]
  },
  {
   "cell_type": "code",
   "execution_count": 8,
   "id": "95d60c85",
   "metadata": {},
   "outputs": [
    {
     "name": "stdout",
     "output_type": "stream",
     "text": [
      "enter your no : 9087\n",
      "7809\n"
     ]
    }
   ],
   "source": [
    "#wap to reverse a number\n",
    "#input -: 7546\n",
    "#ouput -: 6457\n",
    "n = int(input('enter your no : '))\n",
    "rev = 0\n",
    "while n!=0:\n",
    "    rem = n%10\n",
    "    rev = (rev*10)+rem\n",
    "    n = n//10\n",
    "print(rev)"
   ]
  },
  {
   "cell_type": "code",
   "execution_count": 5,
   "id": "5c1f9c78",
   "metadata": {},
   "outputs": [
    {
     "name": "stdout",
     "output_type": "stream",
     "text": [
      "enter your no : 656\n",
      "656 is a palindrome\n"
     ]
    }
   ],
   "source": [
    "#WAP to check whether the given number is palindrome or not\n",
    "#input -: 676\n",
    "#ouput -: 676\n",
    "n = int(input('enter your no : '))\n",
    "temp = n\n",
    "rev = 0\n",
    "while temp!=0:\n",
    "    rem = temp%10\n",
    "    rev = (rev*10)+rem\n",
    "    temp = temp//10\n",
    "if n==rev:\n",
    "    print(n,\"is a palindrome\")\n",
    "else:\n",
    "    print(rev)\n",
    "    "
   ]
  },
  {
   "cell_type": "code",
   "execution_count": 14,
   "id": "c22bd5ed",
   "metadata": {},
   "outputs": [
    {
     "name": "stdout",
     "output_type": "stream",
     "text": [
      "enter your no : 152\n",
      "152 is not armstrong\n"
     ]
    }
   ],
   "source": [
    "#WAP to check whether the given number is armstrong or not\n",
    "n = int(input(\"enter your no : \",))\n",
    "n1 = n\n",
    "n2 = n\n",
    "c = 0\n",
    "tot = 0\n",
    "#count the digits\n",
    "while n!=0:\n",
    "    n = n//10\n",
    "    c = c+1\n",
    "\n",
    "while n1!=0:\n",
    "    rem = n1%10\n",
    "    tot = tot + (rem**c)\n",
    "    n1 = n1//10\n",
    "    \n",
    "if tot==n2:\n",
    "    print(n2,\"is armstrong\")\n",
    "else:\n",
    "    print(n2,'is not armstrong')\n",
    "\n"
   ]
  },
  {
   "cell_type": "code",
   "execution_count": 22,
   "id": "34bb753b",
   "metadata": {},
   "outputs": [
    {
     "name": "stdout",
     "output_type": "stream",
     "text": [
      "enter your no : 145\n",
      "145 is a strong no\n"
     ]
    }
   ],
   "source": [
    "#WAP to check whether the given number is Strong or not\n",
    "n = int(input('enter your no : '))\n",
    "n1 = n\n",
    "tot = 0\n",
    "while n!=0:\n",
    "    rem = n%10\n",
    "    f = 1\n",
    "    for i in range(1,rem+1):\n",
    "        f = f*i\n",
    "    tot = tot + f\n",
    "    n = n//10\n",
    "if n1==tot:\n",
    "    print(n1,'is a strong no')\n",
    "else:\n",
    "    print(n1,'is not a strong No')"
   ]
  },
  {
   "cell_type": "code",
   "execution_count": 26,
   "id": "4a02e371",
   "metadata": {},
   "outputs": [
    {
     "name": "stdout",
     "output_type": "stream",
     "text": [
      "enter your no : 9\n",
      "9 is neon no\n"
     ]
    }
   ],
   "source": [
    "#WAP to check whether the given number is Neon or not\n",
    "n = int(input(\"enter your no : \"))\n",
    "s = n*n\n",
    "sm = 0\n",
    "while s!=0:\n",
    "    rem = s%10\n",
    "    sm = sm+rem\n",
    "    s = s//10\n",
    "if sm == n:\n",
    "    print(n,\"is neon no\")\n",
    "else:\n",
    "    print(n,'is not a neon no')"
   ]
  },
  {
   "cell_type": "code",
   "execution_count": 19,
   "id": "dea2ece8",
   "metadata": {},
   "outputs": [
    {
     "name": "stdout",
     "output_type": "stream",
     "text": [
      "enter your no : 28\n",
      "28 is a perfect no\n"
     ]
    }
   ],
   "source": [
    "#WAP to check whether the given number is perfect or not\n",
    "n = int(input('enter your no : ',))\n",
    "sm = 0\n",
    "for i in range(1,n):\n",
    "    if n%i==0:\n",
    "        sm=sm+i\n",
    "if sm==n:\n",
    "    print(n,'is a perfect no')\n",
    "else:\n",
    "    print(n,'is not a perfect no')"
   ]
  },
  {
   "cell_type": "code",
   "execution_count": 1,
   "id": "3c1a280c",
   "metadata": {},
   "outputs": [
    {
     "name": "stdout",
     "output_type": "stream",
     "text": [
      "Element 7 found at index 3.\n"
     ]
    }
   ],
   "source": [
    "#WAP to perform linear Search\n",
    "# Example list\n",
    "my_list = [3, 9, 2, 7, 1, 5]\n",
    "target_element = 7\n",
    "\n",
    "index = -1  # Initialize index as -1, indicating not found initially\n",
    "\n",
    "# Linear search without using a function\n",
    "for i in range(len(my_list)):\n",
    "    if my_list[i] == target_element:\n",
    "        index = i  # Update index if the target is found\n",
    "        break  # Exit the loop once the target is found\n",
    "\n",
    "if index != -1:\n",
    "    print(f\"Element {target_element} found at index {index}.\")\n",
    "else:\n",
    "    print(f\"Element {target_element} not found in the list.\")\n"
   ]
  },
  {
   "cell_type": "code",
   "execution_count": 2,
   "id": "f67c7187",
   "metadata": {},
   "outputs": [
    {
     "name": "stdout",
     "output_type": "stream",
     "text": [
      "Element 11 found at index 5.\n"
     ]
    }
   ],
   "source": [
    "#Wap to perform Binary Search\n",
    "# Example list (Assuming the list is sorted)\n",
    "my_list = [1, 3, 5, 7, 9, 11, 13, 15, 17]\n",
    "target_element = 11\n",
    "\n",
    "left = 0\n",
    "right = len(my_list) - 1\n",
    "found = False\n",
    "\n",
    "while left <= right:\n",
    "    mid = (left + right) // 2\n",
    "    if my_list[mid] == target_element:\n",
    "        found = True\n",
    "        print(f\"Element {target_element} found at index {mid}.\")\n",
    "        break\n",
    "    elif my_list[mid] < target_element:\n",
    "        left = mid + 1\n",
    "    else:\n",
    "        right = mid - 1\n",
    "\n",
    "if not found:\n",
    "    print(f\"Element {target_element} not found in the list.\")\n"
   ]
  },
  {
   "cell_type": "code",
   "execution_count": 3,
   "id": "b8c20b58",
   "metadata": {},
   "outputs": [
    {
     "name": "stdout",
     "output_type": "stream",
     "text": [
      "Original list: [64, 34, 25, 12, 22, 11, 90]\n",
      "Sorted list: [11, 12, 22, 25, 34, 64, 90]\n"
     ]
    }
   ],
   "source": [
    "#Wap to perform BubbleSort\n",
    "# Example list to be sorted\n",
    "my_list = [64, 34, 25, 12, 22, 11, 90]\n",
    "print(\"Original list:\", my_list)\n",
    "\n",
    "n = len(my_list)\n",
    "\n",
    "# Perform Bubble Sort without using a function\n",
    "for i in range(n - 1):\n",
    "    swapped = False\n",
    "    for j in range(0, n - i - 1):\n",
    "        if my_list[j] > my_list[j + 1]:\n",
    "            # Swap elements if they are in the wrong order\n",
    "            my_list[j], my_list[j + 1] = my_list[j + 1], my_list[j]\n",
    "            swapped = True\n",
    "    \n",
    "    # If no two elements were swapped in the inner loop, the list is already sorted\n",
    "    if not swapped:\n",
    "        break\n",
    "\n",
    "print(\"Sorted list:\", my_list)\n"
   ]
  },
  {
   "cell_type": "code",
   "execution_count": null,
   "id": "1d5a7c77",
   "metadata": {},
   "outputs": [
    {
     "name": "stdout",
     "output_type": "stream",
     "text": [
      "Original list: [64, 34, 25, 12, 22, 11, 90]\n"
     ]
    }
   ],
   "source": [
    "#Wap to perform MergeSort\n",
    "# Example list to be sorted\n",
    "my_list = [64, 34, 25, 12, 22, 11, 90]\n",
    "print(\"Original list:\", my_list)\n",
    "\n",
    "stack = []\n",
    "n = len(my_list)\n",
    "\n",
    "# Splitting the list into individual elements as separate lists\n",
    "for i in range(n):\n",
    "    stack.append([my_list[i]])\n",
    "\n",
    "# Merging the lists in pairs until only one list remains\n",
    "while len(stack) > 1:\n",
    "    if len(stack) % 2 == 0:\n",
    "        temp = []\n",
    "    else:\n",
    "        temp = stack.pop()\n",
    "\n",
    "    for i in range(0, len(stack), 2):\n",
    "        merged = []\n",
    "        left = stack[i]\n",
    "        right = stack[i + 1] if i + 1 < len(stack) else temp\n",
    "\n",
    "        # Merging two lists in sorted order\n",
    "        l = r = 0\n",
    "        while l < len(left) and r < len(right):\n",
    "            if left[l] < right[r]:\n",
    "                merged.append(left[l])\n",
    "                l += 1\n",
    "            else:\n",
    "                merged.append(right[r])\n",
    "                r += 1\n",
    "\n",
    "        # Adding remaining elements from left and right lists\n",
    "        merged.extend(left[l:])\n",
    "        merged.extend(right[r:])\n",
    "        stack.append(merged)\n",
    "\n",
    "# The final sorted list\n",
    "sorted_list = stack[0]\n",
    "print(\"Sorted list:\", sorted_list)\n"
   ]
  },
  {
   "cell_type": "markdown",
   "id": "f1757eef",
   "metadata": {},
   "source": [
    "# List comprehension\n"
   ]
  },
  {
   "cell_type": "code",
   "execution_count": 2,
   "id": "b6c4d745",
   "metadata": {},
   "outputs": [
    {
     "name": "stdout",
     "output_type": "stream",
     "text": [
      "[2, 4, 6, 8, 10, 12, 14, 16, 18, 20, 22, 24, 26, 28, 30, 32, 34, 36, 38, 40, 42, 44, 46, 48, 50, 52, 54, 56, 58, 60, 62, 64, 66, 68, 70, 72, 74, 76, 78, 80, 82, 84, 86, 88, 90, 92, 94, 96, 98, 100]\n"
     ]
    }
   ],
   "source": [
    "#using list comprehension store all the even numbers from 1 to 100 in a list\n",
    "even = [n for n in range(1,101) if n%2==0]\n",
    "print(even)"
   ]
  },
  {
   "cell_type": "code",
   "execution_count": 7,
   "id": "94bf0511",
   "metadata": {},
   "outputs": [
    {
     "name": "stdout",
     "output_type": "stream",
     "text": [
      "[1904, 1908, 1912, 1916, 1920, 1924, 1928, 1932, 1936, 1940, 1944, 1948, 1952, 1956, 1960, 1964, 1968, 1972, 1976, 1980, 1984, 1988, 1992, 1996, 2000, 2004, 2008, 2012, 2016, 2020, 2024, 2028]\n"
     ]
    }
   ],
   "source": [
    "#using list comprehension store all Leap year from 1900 to 2030 in a list\n",
    "leap_year = [n for n in range(1900,2031)if n%400==0 or (n%4==0 and n%100!=0)]\n",
    "print(leap_year)"
   ]
  },
  {
   "cell_type": "code",
   "execution_count": 10,
   "id": "ef22d290",
   "metadata": {},
   "outputs": [
    {
     "name": "stdout",
     "output_type": "stream",
     "text": [
      "[1, 8, 27, 64, 125, 216, 343, 512, 729, 1000, 1331, 1728, 2197, 2744, 3375, 4096, 4913, 5832, 6859, 8000]\n"
     ]
    }
   ],
   "source": [
    "#using list comprehension, store cubes of natural number from 1-20 in a list\n",
    "cubes = [n**3 for n in range(1,21)]\n",
    "print(cubes)"
   ]
  },
  {
   "cell_type": "code",
   "execution_count": 18,
   "id": "be35584b",
   "metadata": {},
   "outputs": [
    {
     "name": "stdout",
     "output_type": "stream",
     "text": [
      "[('book2', 2012), ('book4', 2015), ('book6', 2018)]\n"
     ]
    }
   ],
   "source": [
    "library =[('book1',2002),('book2',2012),('book3',2007),('book4',2015),('book5',2005),('book6',2018)]\n",
    "#Given a list lib, using list comprehension store all the books that was published after 2010\n",
    "library = [('book1', 2002), ('book2', 2012), ('book3', 2007), ('book4', 2015), ('book5', 2005), ('book6', 2018)]\n",
    "\n",
    "books_after_2010 = [book for book in library if book[1] > 2010]\n",
    "print(books_after_2010)\n"
   ]
  },
  {
   "cell_type": "code",
   "execution_count": 20,
   "id": "3455866f",
   "metadata": {},
   "outputs": [
    {
     "name": "stdout",
     "output_type": "stream",
     "text": [
      "['not', 'no', 'never', 'none', 'nor']\n"
     ]
    }
   ],
   "source": [
    "grammar = ['is','not','am','are','do','did','no','will','never','shall','none','was','nor']\n",
    "#Given a list grammar, using list comprehension, filter all the negative words that starts with 'n'\n",
    "negative_words_starting_with_n = [word for word in grammar if word.startswith('n')]\n",
    "print(negative_words_starting_with_n)"
   ]
  },
  {
   "cell_type": "code",
   "execution_count": 22,
   "id": "8c4dc67a",
   "metadata": {},
   "outputs": [
    {
     "name": "stdout",
     "output_type": "stream",
     "text": [
      "[(1, 'a'), (1, 'b'), (1, 'c'), (2, 'a'), (2, 'b'), (2, 'c'), (3, 'a'), (3, 'b'), (3, 'c')]\n"
     ]
    }
   ],
   "source": [
    "x= [1,2,3]\n",
    "y=['a','b','c']\n",
    "#Given two list x and, using list comprehension take the cross product of x and y-:\n",
    "#output-:[(1, 'a'), (1, 'b'), (1, 'c'), (2, 'a'), (2, 'b'), (2, 'c'), (3, 'a'), (3, 'b'), (3, 'c')]\n",
    "cross_product = [(i, j) for i in x for j in y]\n",
    "print(cross_product)"
   ]
  },
  {
   "cell_type": "code",
   "execution_count": 26,
   "id": "04323311",
   "metadata": {},
   "outputs": [
    {
     "name": "stdout",
     "output_type": "stream",
     "text": [
      "*\n",
      "**\n",
      "***\n",
      "****\n"
     ]
    }
   ],
   "source": [
    "\"\"\"\n",
    "print the following start parttern-:\n",
    "start parttern 1\n",
    "*\n",
    "**\n",
    "***\n",
    "****\n",
    "\"\"\"\n",
    "for i in range(1,5):\n",
    "    print('*'*i)\n"
   ]
  },
  {
   "cell_type": "code",
   "execution_count": 28,
   "id": "892b5585",
   "metadata": {},
   "outputs": [
    {
     "name": "stdout",
     "output_type": "stream",
     "text": [
      "****\n",
      "***\n",
      "**\n",
      "*\n"
     ]
    }
   ],
   "source": [
    "\"\"\"start parttern 2\n",
    "****\n",
    "***\n",
    "**\n",
    "*\"\"\"\n",
    "for i in range(4,0,-1):\n",
    "    print(\"*\"*i)"
   ]
  },
  {
   "cell_type": "code",
   "execution_count": 30,
   "id": "0429963b",
   "metadata": {},
   "outputs": [
    {
     "name": "stdout",
     "output_type": "stream",
     "text": [
      "*\n",
      "**\n",
      "***\n",
      "****\n",
      "***\n",
      "**\n",
      "*\n"
     ]
    }
   ],
   "source": [
    "\"\"\"start parttern 3\n",
    "*\n",
    "**\n",
    "***\n",
    "****\n",
    "***\n",
    "**\n",
    "*\n",
    "\"\"\"\n",
    "for i in range(1,5):\n",
    "    print(\"*\"*i)\n",
    "for i in range(3,0,-1):\n",
    "    print(\"*\"*i)"
   ]
  },
  {
   "cell_type": "markdown",
   "id": "6a2e51a8",
   "metadata": {},
   "source": [
    "# Functions\n"
   ]
  },
  {
   "cell_type": "code",
   "execution_count": 31,
   "id": "678fb182",
   "metadata": {},
   "outputs": [
    {
     "data": {
      "text/plain": [
       "10.0"
      ]
     },
     "execution_count": 31,
     "metadata": {},
     "output_type": "execute_result"
    }
   ],
   "source": [
    "#Create a function to calculate the the area of triangle\n",
    "def area(b,h):\n",
    "    return 0.5*b*h\n",
    "area(4,5)"
   ]
  },
  {
   "cell_type": "code",
   "execution_count": 32,
   "id": "9ebb3693",
   "metadata": {},
   "outputs": [
    {
     "data": {
      "text/plain": [
       "523.3333333333334"
      ]
     },
     "execution_count": 32,
     "metadata": {},
     "output_type": "execute_result"
    }
   ],
   "source": [
    "#Create a function that calculates the the volume of sphere\n",
    "def vol_of_sphere(r):\n",
    "    return (4/3)*3.14*(r**3)\n",
    "vol_of_sphere(5)"
   ]
  },
  {
   "cell_type": "code",
   "execution_count": 37,
   "id": "fbe1c22f",
   "metadata": {},
   "outputs": [
    {
     "name": "stdout",
     "output_type": "stream",
     "text": [
      "81\n",
      "3\n"
     ]
    },
    {
     "ename": "TypeError",
     "evalue": "required() missing 1 required positional argument: 'n'",
     "output_type": "error",
     "traceback": [
      "\u001b[1;31m---------------------------------------------------------------------------\u001b[0m",
      "\u001b[1;31mTypeError\u001b[0m                                 Traceback (most recent call last)",
      "Input \u001b[1;32mIn [37]\u001b[0m, in \u001b[0;36m<cell line: 9>\u001b[1;34m()\u001b[0m\n\u001b[0;32m      7\u001b[0m     \u001b[38;5;28;01mreturn\u001b[39;00m m\u001b[38;5;241m/\u001b[39m\u001b[38;5;241m/\u001b[39mn\n\u001b[0;32m      8\u001b[0m \u001b[38;5;28mprint\u001b[39m(required(\u001b[38;5;241m10\u001b[39m,\u001b[38;5;241m3\u001b[39m))\n\u001b[1;32m----> 9\u001b[0m \u001b[38;5;28mprint\u001b[39m(\u001b[43mrequired\u001b[49m\u001b[43m(\u001b[49m\u001b[38;5;241;43m10\u001b[39;49m\u001b[43m)\u001b[49m)\n",
      "\u001b[1;31mTypeError\u001b[0m: required() missing 1 required positional argument: 'n'"
     ]
    }
   ],
   "source": [
    "#Explain what is default and required arguments with an example of each\n",
    "def default(x,y=4):\n",
    "    return x**y\n",
    "print(default(3))\n",
    "\n",
    "def required(m,n):\n",
    "    return m//n\n",
    "print(required(10,3))\n",
    "print(required(10))"
   ]
  },
  {
   "cell_type": "code",
   "execution_count": 9,
   "id": "03fb2cb7",
   "metadata": {},
   "outputs": [
    {
     "name": "stdout",
     "output_type": "stream",
     "text": [
      "The youngest child is c\n"
     ]
    }
   ],
   "source": [
    "#Explain what is variable length arguments i.e *args & **kwargs with an example of each\n",
    "def my_function(*kids):\n",
    "    print(\"The youngest child is \" +  kids[2])\n",
    "my_function('a','b','c')"
   ]
  },
  {
   "cell_type": "code",
   "execution_count": 10,
   "id": "2a7eb84f",
   "metadata": {},
   "outputs": [
    {
     "data": {
      "text/plain": [
       "'The lastname is more'"
      ]
     },
     "execution_count": 10,
     "metadata": {},
     "output_type": "execute_result"
    }
   ],
   "source": [
    "def new_function(**boy):\n",
    "    return ('The lastname is '+ boy['lname'])\n",
    "new_function(fname = 'kunal',lname = 'more')"
   ]
  },
  {
   "cell_type": "code",
   "execution_count": 18,
   "id": "0e1c0cbd",
   "metadata": {},
   "outputs": [
    {
     "name": "stdout",
     "output_type": "stream",
     "text": [
      "enter your no : 17\n",
      "no is prime\n"
     ]
    }
   ],
   "source": [
    "#WAP to check whether the given number is prime or not\n",
    "n = int(input(\"enter your no : \",))\n",
    "c = 0\n",
    "if n==0:\n",
    "    print('no is not prime')\n",
    "else:\n",
    "    for i in range(2,n):\n",
    "        if (n%i)==0:\n",
    "            c=c+1\n",
    "    if c==0:\n",
    "        print('no is prime')\n",
    "    else:\n",
    "        print('no is not prime')"
   ]
  },
  {
   "cell_type": "code",
   "execution_count": 17,
   "id": "f7b1298c",
   "metadata": {},
   "outputs": [
    {
     "data": {
      "text/plain": [
       "(7, 'no is prime')"
      ]
     },
     "execution_count": 17,
     "metadata": {},
     "output_type": "execute_result"
    }
   ],
   "source": [
    "#WAP to create function of prime no \n",
    "def prime(n):\n",
    "    c = 0\n",
    "    if n==1:\n",
    "        print('no is not prime')\n",
    "    else:\n",
    "        for i in range(2,n):\n",
    "            if (n%i)==0:\n",
    "                c=c+1\n",
    "        if c==0:\n",
    "            return n,'no is prime'\n",
    "        else:\n",
    "            return n,'no is not prime'\n",
    "prime(7)"
   ]
  },
  {
   "cell_type": "code",
   "execution_count": 23,
   "id": "77ea6bcd",
   "metadata": {},
   "outputs": [
    {
     "name": "stdout",
     "output_type": "stream",
     "text": [
      "no is perfect\n"
     ]
    }
   ],
   "source": [
    "#WAP to create a function of perfect number\n",
    "def perfect(n):\n",
    "    sm = 0\n",
    "    for i in range(1,n):\n",
    "        if (n%i)==0:\n",
    "            sm=sm+i\n",
    "    if sm==n:\n",
    "        print('no is perfect')\n",
    "    else:\n",
    "        print('no is not perfect')\n",
    "perfect(28)"
   ]
  },
  {
   "cell_type": "code",
   "execution_count": 28,
   "id": "d140ccbf",
   "metadata": {},
   "outputs": [
    {
     "name": "stdout",
     "output_type": "stream",
     "text": [
      "9 no is neon\n"
     ]
    }
   ],
   "source": [
    "def neon(n):\n",
    "    s = n*n\n",
    "    sm = 0\n",
    "    while s!=0:\n",
    "        rem=s%10\n",
    "        sm = sm+rem\n",
    "        s = s//10\n",
    "    if sm==n:\n",
    "        print(n,'no is neon')\n",
    "    else:\n",
    "        print(n,'no is not neon')\n",
    "neon(9)"
   ]
  },
  {
   "cell_type": "code",
   "execution_count": 30,
   "id": "c1a86abd",
   "metadata": {},
   "outputs": [
    {
     "data": {
      "text/plain": [
       "37"
      ]
     },
     "execution_count": 30,
     "metadata": {},
     "output_type": "execute_result"
    }
   ],
   "source": [
    "#Explain what is lambda function with the help of example\n",
    "x = (lambda a,b,c : a*b+c)(5,6,7)\n",
    "x"
   ]
  },
  {
   "cell_type": "code",
   "execution_count": 3,
   "id": "2b547371",
   "metadata": {},
   "outputs": [
    {
     "name": "stdout",
     "output_type": "stream",
     "text": [
      "factorial of no :  362880\n"
     ]
    }
   ],
   "source": [
    "#WAP for factorial using recurrsion\n",
    "def factorial(no):\n",
    "    if no==0:\n",
    "        return 1\n",
    "    else:\n",
    "        return no * factorial(no-1)\n",
    "print(\"factorial of no : \",factorial(9))"
   ]
  },
  {
   "cell_type": "code",
   "execution_count": 4,
   "id": "6cd45bca",
   "metadata": {},
   "outputs": [
    {
     "name": "stdout",
     "output_type": "stream",
     "text": [
      "0 1 1 2 3 "
     ]
    }
   ],
   "source": [
    "#WAP for fibonacci series using recurrsion using one of the memoization technique\n",
    "def fibo(n):\n",
    "    a,b=0,1\n",
    "    for i in range(n):\n",
    "        print(a,end=\" \")\n",
    "        a,b=b,a+b\n",
    "fibo(5)"
   ]
  },
  {
   "cell_type": "code",
   "execution_count": 8,
   "id": "16c0b172",
   "metadata": {},
   "outputs": [
    {
     "name": "stdout",
     "output_type": "stream",
     "text": [
      "Item with the highest value count: {'banana': 8}\n"
     ]
    }
   ],
   "source": [
    "#Q.Item with highest value count\n",
    "items = [{'apple': 5}, {'banana': 8}, {'orange': 7}, {'grapes': 4}]\n",
    "def item_With_Highest_Value(items):\n",
    "    return max(items,key=lambda x : list(x.values())[0])\n",
    "result = item_With_Highest_Value(items)\n",
    "print(\"Item with the highest value count:\", result)"
   ]
  },
  {
   "cell_type": "code",
   "execution_count": 18,
   "id": "9692a635",
   "metadata": {},
   "outputs": [
    {
     "data": {
      "text/plain": [
       "['FahadMomin',\n",
       " 'jay A kumar',\n",
       " 'deepak N sharma',\n",
       " 'mithilesh singh',\n",
       " 'payal vasave',\n",
       " 'rohit N yadav']"
      ]
     },
     "execution_count": 18,
     "metadata": {},
     "output_type": "execute_result"
    }
   ],
   "source": [
    "#Create a lambda function to sort the name list according to their surname.\n",
    "name = [\"jay A kumar\",'deepak N sharma','rohit N yadav','mithilesh singh','payal vasave','FahadMomin']\n",
    "#o/p-:['jay A kumar', 'Fahad Momin', 'deepak N sharma', 'mithilesh singh', 'payal vasave', 'rohit Nyadav']\n",
    "name1 = sorted(name,key=lambda x : x.split()[-1])\n",
    "name1"
   ]
  },
  {
   "cell_type": "code",
   "execution_count": 20,
   "id": "401d21b1",
   "metadata": {},
   "outputs": [
    {
     "name": "stdout",
     "output_type": "stream",
     "text": [
      "[('kashmir', 33.8), ('mumbai', 60.8), ('goa', 71.6), ('channai', 64.4), ('kerla', 68.0)]\n"
     ]
    }
   ],
   "source": [
    "#using map function, create a lambda expression to convert the degree celcius to fahrenheit\n",
    "temp = [('kashmir',1),('mumbai',16),('goa',22),('channai',18),('kerla',20)]\n",
    "#Formula to convert fahrenheit to celsius, f = 9/5 x c + 32\n",
    "#o/p-:[('kashmir', 33.8), ('mumbai', 60.8), ('goa', 71.6), ('channai', 64.4), ('kerla', 68.0)]\n",
    "temps = [('kashmir', 1), ('mumbai', 16), ('goa', 22), ('channai', 18), ('kerla', 20)]\n",
    "\n",
    "# Lambda function to convert Celsius to Fahrenheit\n",
    "convert_to_fahrenheit = lambda temps: (temps[0], (9/5) * temps[1] + 32)\n",
    "\n",
    "# Applying the lambda function using map\n",
    "converted_temps = list(map(convert_to_fahrenheit, temps))\n",
    "print(converted_temps)\n"
   ]
  },
  {
   "cell_type": "code",
   "execution_count": 21,
   "id": "e5e2a6ac",
   "metadata": {},
   "outputs": [
    {
     "name": "stdout",
     "output_type": "stream",
     "text": [
      "[(1, 'a'), (2, 'b'), (3, 'c')]\n",
      "10\n",
      "3.14\n",
      "8\n"
     ]
    }
   ],
   "source": [
    "#1. Give example of zip(), abs(), round(),pow() function\n",
    "# Example of zip()\n",
    "numbers = [1, 2, 3]\n",
    "letters = ['a', 'b', 'c']\n",
    "\n",
    "zipped = list(zip(numbers, letters))\n",
    "print(zipped)  # Output: [(1, 'a'), (2, 'b'), (3, 'c')]\n",
    "# Example of abs()\n",
    "num = -10\n",
    "abs_value = abs(num)\n",
    "print(abs_value)  # Output: 10\n",
    "# Example of round()\n",
    "value = 3.14159\n",
    "rounded_value = round(value, 2)\n",
    "print(rounded_value)  # Output: 3.14\n",
    "# Example of pow()\n",
    "base = 2\n",
    "exponent = 3\n",
    "result = pow(base, exponent)\n",
    "print(result)  # Output: 8\n"
   ]
  },
  {
   "cell_type": "code",
   "execution_count": 24,
   "id": "92bc1ef6",
   "metadata": {},
   "outputs": [
    {
     "name": "stdout",
     "output_type": "stream",
     "text": [
      "[11, 5, 9, 88, 303]\n",
      "[5, 78, 45, 9, 10, 303]\n"
     ]
    }
   ],
   "source": [
    "mylist = [11,14,5,78,45,67,9,88,10,303]\n",
    "#a) apply filter to create a list of palindrome numbers from mylist\n",
    "#b) apply filter to create a list of numbers divisible by 3 or 5 from the mylist\n",
    "pal_no = list(filter(lambda x : str(x)==str(x)[::-1],mylist))\n",
    "print(pal_no)\n",
    "even_no = list(filter(lambda x : x%3==0 or x%5==0,mylist))\n",
    "print(even_no)"
   ]
  },
  {
   "cell_type": "code",
   "execution_count": 25,
   "id": "3b88f29a",
   "metadata": {},
   "outputs": [
    {
     "name": "stdout",
     "output_type": "stream",
     "text": [
      "303\n"
     ]
    }
   ],
   "source": [
    "#3. WAP to find maximum number from the list without using function and slicing or sorting function\n",
    "my_list = [11, 14, 5, 78, 45, 67, 9, 88, 10, 303]\n",
    "max_num = my_list[0]\n",
    "for num in my_list:\n",
    "    if num > max_num:\n",
    "        max_num=num\n",
    "print(max_num)"
   ]
  },
  {
   "cell_type": "code",
   "execution_count": 27,
   "id": "cecfd827",
   "metadata": {},
   "outputs": [
    {
     "name": "stdout",
     "output_type": "stream",
     "text": [
      "5\n"
     ]
    }
   ],
   "source": [
    "#4. WAP to find Minimum number from the list without using function and slicing or sorting function\n",
    "my_list = [11, 14, 5, 78, 45, 67, 9, 88, 10, 303]\n",
    "min_num=my_list[0]\n",
    "for num in my_list:\n",
    "    if num<min_num:\n",
    "        min_num=num\n",
    "print(min_num)"
   ]
  },
  {
   "cell_type": "code",
   "execution_count": 28,
   "id": "3176cb71",
   "metadata": {},
   "outputs": [
    {
     "name": "stdout",
     "output_type": "stream",
     "text": [
      "88\n"
     ]
    }
   ],
   "source": [
    "#5. WAP to get second highest value from the list without using sort function\n",
    "my_list = [11, 14, 5, 78, 45, 67, 9, 88, 10, 303]\n",
    "unique_nums = set(my_list)\n",
    "if len(unique_nums)<2:\n",
    "    print('list has less than 2 nos')\n",
    "else:\n",
    "    my_list.remove(max(my_list))\n",
    "print(max(my_list))    "
   ]
  },
  {
   "cell_type": "code",
   "execution_count": 30,
   "id": "e9246315",
   "metadata": {},
   "outputs": [
    {
     "name": "stdout",
     "output_type": "stream",
     "text": [
      "9\n"
     ]
    }
   ],
   "source": [
    "#6. WAP to get second lowest value from the list without using sort function\n",
    "my_list = [11, 14, 5, 78, 45, 67, 9, 88, 10, 303]\n",
    "if len(my_list)<2:\n",
    "    print('list has less than 2 nos')\n",
    "else:\n",
    "    my_list.remove(min(my_list))\n",
    "print(min(my_list))"
   ]
  },
  {
   "cell_type": "code",
   "execution_count": null,
   "id": "59e9a64a",
   "metadata": {},
   "outputs": [],
   "source": []
  },
  {
   "cell_type": "code",
   "execution_count": null,
   "id": "5242f817",
   "metadata": {},
   "outputs": [],
   "source": []
  }
 ],
 "metadata": {
  "kernelspec": {
   "display_name": "Python 3 (ipykernel)",
   "language": "python",
   "name": "python3"
  },
  "language_info": {
   "codemirror_mode": {
    "name": "ipython",
    "version": 3
   },
   "file_extension": ".py",
   "mimetype": "text/x-python",
   "name": "python",
   "nbconvert_exporter": "python",
   "pygments_lexer": "ipython3",
   "version": "3.9.12"
  },
  "varInspector": {
   "cols": {
    "lenName": 16,
    "lenType": 16,
    "lenVar": 40
   },
   "kernels_config": {
    "python": {
     "delete_cmd_postfix": "",
     "delete_cmd_prefix": "del ",
     "library": "var_list.py",
     "varRefreshCmd": "print(var_dic_list())"
    },
    "r": {
     "delete_cmd_postfix": ") ",
     "delete_cmd_prefix": "rm(",
     "library": "var_list.r",
     "varRefreshCmd": "cat(var_dic_list()) "
    }
   },
   "types_to_exclude": [
    "module",
    "function",
    "builtin_function_or_method",
    "instance",
    "_Feature"
   ],
   "window_display": false
  }
 },
 "nbformat": 4,
 "nbformat_minor": 5
}
