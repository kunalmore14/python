{
 "cells": [
  {
   "cell_type": "code",
   "execution_count": 2,
   "id": "c6fd1523",
   "metadata": {},
   "outputs": [
    {
     "name": "stdout",
     "output_type": "stream",
     "text": [
      "9\n",
      "3\n",
      "27\n",
      "4.0\n"
     ]
    }
   ],
   "source": [
    "#1. Make a calculator using function.\n",
    "def add(a,b):\n",
    "    return a+b\n",
    "def sub(a,b):\n",
    "    return a-b\n",
    "def multiply(a,b):\n",
    "    return a*b\n",
    "def divide(a,b):\n",
    "    if b==0:\n",
    "        return ('cannot divide by zero')\n",
    "    else:\n",
    "        return (a/b)\n",
    "print(add(6,3))\n",
    "print(sub(7,4))\n",
    "print(multiply(9,3))\n",
    "print(divide(8,2))\n"
   ]
  },
  {
   "cell_type": "code",
   "execution_count": 3,
   "id": "786dad34",
   "metadata": {},
   "outputs": [
    {
     "data": {
      "text/plain": [
       "28"
      ]
     },
     "execution_count": 3,
     "metadata": {},
     "output_type": "execute_result"
    }
   ],
   "source": [
    "#2. Calculate sum of first n numbers.\n",
    "def sum_of_n(*n):\n",
    "    return sum(n)\n",
    "sum_of_n(9,6,6,7)"
   ]
  },
  {
   "cell_type": "code",
   "execution_count": 4,
   "id": "94a37bca",
   "metadata": {},
   "outputs": [
    {
     "data": {
      "text/plain": [
       "{3, 5, 6, 33, 45, 55}"
      ]
     },
     "execution_count": 4,
     "metadata": {},
     "output_type": "execute_result"
    }
   ],
   "source": [
    "#3. Write a python function that takes a list and returns a new list with unique elements of the first list\n",
    "my_list=[3,6,55,45,33,3,45,5,3]\n",
    "def unique():\n",
    "    new_list = set(my_list)\n",
    "    return new_list\n",
    "unique()"
   ]
  },
  {
   "cell_type": "code",
   "execution_count": 8,
   "id": "6884be46",
   "metadata": {},
   "outputs": [
    {
     "data": {
      "text/plain": [
       "'b is max than a'"
      ]
     },
     "execution_count": 8,
     "metadata": {},
     "output_type": "execute_result"
    }
   ],
   "source": [
    "#4. Find maximum and minimum number from two numbers using function\n",
    "def func(a,b):\n",
    "    if a>b:\n",
    "        return 'a is max than b'\n",
    "    else:\n",
    "        return 'b is max than a'\n",
    "func(7,8)"
   ]
  },
  {
   "cell_type": "code",
   "execution_count": 9,
   "id": "9d3828f8",
   "metadata": {},
   "outputs": [
    {
     "name": "stdout",
     "output_type": "stream",
     "text": [
      "Number of uppercase letters: 5\n",
      "Number of lowercase letters: 14\n"
     ]
    }
   ],
   "source": [
    "#5. Find the number of uppercases and lowercases letters in string\n",
    "def count_upper_lower(string):\n",
    "    upper_count = 0\n",
    "    lower_count = 0\n",
    "\n",
    "    for char in string:\n",
    "        if char.isupper():\n",
    "            upper_count += 1\n",
    "        elif char.islower():\n",
    "            lower_count += 1\n",
    "\n",
    "    return upper_count, lower_count\n",
    "\n",
    "# Example usage:\n",
    "input_string = \"Hello, World! How Are You?\"\n",
    "upper, lower = count_upper_lower(input_string)\n",
    "\n",
    "print(\"Number of uppercase letters:\", upper)\n",
    "print(\"Number of lowercase letters:\", lower)\n"
   ]
  },
  {
   "cell_type": "code",
   "execution_count": 12,
   "id": "ef40a234",
   "metadata": {},
   "outputs": [
    {
     "name": "stdout",
     "output_type": "stream",
     "text": [
      "no is prime\n"
     ]
    }
   ],
   "source": [
    "#6. write a program to check number is prime or not\n",
    "def prime(n):\n",
    "    c=0\n",
    "    if n==1:\n",
    "        print('no is not prime')\n",
    "    else:\n",
    "        for i in range(2,n):\n",
    "            if n%i==0:\n",
    "                c=c+1\n",
    "        if c==0:\n",
    "            print('no is prime')\n",
    "        else:\n",
    "            print('no is not prime')\n",
    "prime(5)"
   ]
  },
  {
   "cell_type": "code",
   "execution_count": 6,
   "id": "24c45a8e",
   "metadata": {},
   "outputs": [
    {
     "name": "stdout",
     "output_type": "stream",
     "text": [
      "Powers of 2: [4, 4, 4, 4, 4, 4, 4, 4, 4, 4, 4]\n"
     ]
    }
   ],
   "source": [
    "#7. Display the powers of 2 using anonymous functions\n",
    "# Generating powers of 2 using anonymous function\n",
    "n = 10  # Displaying powers of 2 up to 2^10\n",
    "\n",
    "powers_of_2 = [lambda x: 2**x for x in range(n + 1)]\n",
    "power_values = [power(2) for power in (powers_of_2)]\n",
    "\n",
    "print(\"Powers of 2:\", power_values)"
   ]
  },
  {
   "cell_type": "code",
   "execution_count": 7,
   "id": "1f1027f1",
   "metadata": {},
   "outputs": [
    {
     "name": "stdout",
     "output_type": "stream",
     "text": [
      "Number of uppercase letters: 5\n",
      "Number of lowercase letters: 14\n"
     ]
    }
   ],
   "source": [
    "#16. Write a python function that accepts a string and calculate the number of uppercase letters and lowercase\n",
    "def count_upper_lower(string):\n",
    "    upper_count = 0\n",
    "    lower_count = 0\n",
    "\n",
    "    for char in string:\n",
    "        if char.isupper():\n",
    "            upper_count += 1\n",
    "        elif char.islower():\n",
    "            lower_count += 1\n",
    "\n",
    "    return upper_count, lower_count\n",
    "\n",
    "# Example usage:\n",
    "input_string = \"Hello, World! How Are You?\"\n",
    "upper, lower = count_upper_lower(input_string)\n",
    "\n",
    "print(\"Number of uppercase letters:\", upper)\n",
    "print(\"Number of lowercase letters:\", lower)\n"
   ]
  },
  {
   "cell_type": "code",
   "execution_count": 8,
   "id": "f0baec67",
   "metadata": {},
   "outputs": [
    {
     "name": "stdout",
     "output_type": "stream",
     "text": [
      "The key 'b' is present in the dictionary.\n"
     ]
    }
   ],
   "source": [
    "#8. Q3. Write a function check(key) which takes a key as an argument and \n",
    "#check whether that key is present in dictionary or not.\n",
    "def check(key, dictionary):\n",
    "    if key in dictionary:\n",
    "        return f\"The key '{key}' is present in the dictionary.\"\n",
    "    else:\n",
    "        return f\"The key '{key}' is not present in the dictionary.\"\n",
    "\n",
    "# Example dictionary\n",
    "my_dict = {'a': 1, 'b': 2, 'c': 3}\n",
    "\n",
    "# Usage of check function\n",
    "key_to_check = 'b'\n",
    "result = check(key_to_check, my_dict)\n",
    "print(result)\n"
   ]
  },
  {
   "cell_type": "code",
   "execution_count": 20,
   "id": "5d7e75e8",
   "metadata": {},
   "outputs": [
    {
     "name": "stdout",
     "output_type": "stream",
     "text": [
      "4\n",
      "4\n"
     ]
    }
   ],
   "source": [
    "#9.  Write the output of the following :\n",
    "def s(a):\n",
    "    print(a)\n",
    "    a = a + 2\n",
    "n2=4\n",
    "s(n2)\n",
    "print(n2)"
   ]
  },
  {
   "cell_type": "code",
   "execution_count": 31,
   "id": "9769227f",
   "metadata": {},
   "outputs": [
    {
     "name": "stdout",
     "output_type": "stream",
     "text": [
      "18\n"
     ]
    }
   ],
   "source": [
    "#10. Write the output of the following:\n",
    "def cal(m,n):\n",
    "    if m==n:\n",
    "          return m*3\n",
    "    else:\n",
    "          return m*2\n",
    "s = cal(9, 8)\n",
    "print(s)"
   ]
  },
  {
   "cell_type": "code",
   "execution_count": 43,
   "id": "0d229eaa",
   "metadata": {},
   "outputs": [
    {
     "name": "stdout",
     "output_type": "stream",
     "text": [
      "1\n"
     ]
    }
   ],
   "source": [
    "#11.Write the output of the following:\n",
    "def check():\n",
    "    i = 5\n",
    "    while i > 1:\n",
    "        if i //2==0:\n",
    "              x = i + 2\n",
    "              i = i-1\n",
    "        else:\n",
    "             i = i-2\n",
    "             x = i\n",
    "    print (x)\n",
    "check()"
   ]
  },
  {
   "cell_type": "code",
   "execution_count": 54,
   "id": "b1ac2301",
   "metadata": {},
   "outputs": [
    {
     "name": "stdout",
     "output_type": "stream",
     "text": [
      "3 5 5 "
     ]
    }
   ],
   "source": [
    "#12. What will be the output of the following code?\n",
    "x = 3\n",
    "def myfunc():\n",
    "     global x\n",
    "     x+=2\n",
    "     print(x, end=' ')\n",
    "print(x, end=' ')\n",
    "myfunc()\n",
    "print(x, end=' ')"
   ]
  },
  {
   "cell_type": "code",
   "execution_count": 57,
   "id": "ede8ae84",
   "metadata": {},
   "outputs": [
    {
     "name": "stdout",
     "output_type": "stream",
     "text": [
      "50#5\n"
     ]
    }
   ],
   "source": [
    "#13. What will be the output of the following code?\n",
    "value = 50\n",
    "def display(N):\n",
    "    global value\n",
    "    value = 25\n",
    "    if N%7==0:\n",
    "           value = value + N\n",
    "    else:\n",
    "           value = value - N\n",
    "print(value, end=\"#\")\n",
    "display(20)\n",
    "print(value)"
   ]
  },
  {
   "cell_type": "code",
   "execution_count": 58,
   "id": "5d8d7c59",
   "metadata": {},
   "outputs": [
    {
     "name": "stdout",
     "output_type": "stream",
     "text": [
      "5#8#5#4#"
     ]
    }
   ],
   "source": [
    "#14. What is the output of the following code snippet?\n",
    "def ChangeVal(M,N):\n",
    "     for i in range(N):\n",
    "          if M[i]%5 == 0:\n",
    "               M[i]//=5\n",
    "          if M[i]%3 == 0:\n",
    "               M[i]//=3\n",
    "L = [25,8,75,12]\n",
    "ChangeVal(L,4)\n",
    "for i in L:\n",
    "     print(i,end=\"#\")"
   ]
  },
  {
   "cell_type": "code",
   "execution_count": 70,
   "id": "11f71be6",
   "metadata": {},
   "outputs": [
    {
     "name": "stdout",
     "output_type": "stream",
     "text": [
      "15\n"
     ]
    }
   ],
   "source": [
    "#15. Write the output of the following:\n",
    "def c(x, y):\n",
    "    if x % y :\n",
    "         return x+5\n",
    "    else:\n",
    "        return y+10\n",
    "print(c(20, 5))\n"
   ]
  },
  {
   "cell_type": "code",
   "execution_count": 66,
   "id": "9b063189",
   "metadata": {},
   "outputs": [
    {
     "data": {
      "text/plain": [
       "0"
      ]
     },
     "execution_count": 66,
     "metadata": {},
     "output_type": "execute_result"
    }
   ],
   "source": [
    "20%5"
   ]
  },
  {
   "cell_type": "code",
   "execution_count": null,
   "id": "977e448d",
   "metadata": {},
   "outputs": [],
   "source": []
  }
 ],
 "metadata": {
  "kernelspec": {
   "display_name": "Python 3 (ipykernel)",
   "language": "python",
   "name": "python3"
  },
  "language_info": {
   "codemirror_mode": {
    "name": "ipython",
    "version": 3
   },
   "file_extension": ".py",
   "mimetype": "text/x-python",
   "name": "python",
   "nbconvert_exporter": "python",
   "pygments_lexer": "ipython3",
   "version": "3.9.12"
  },
  "varInspector": {
   "cols": {
    "lenName": 16,
    "lenType": 16,
    "lenVar": 40
   },
   "kernels_config": {
    "python": {
     "delete_cmd_postfix": "",
     "delete_cmd_prefix": "del ",
     "library": "var_list.py",
     "varRefreshCmd": "print(var_dic_list())"
    },
    "r": {
     "delete_cmd_postfix": ") ",
     "delete_cmd_prefix": "rm(",
     "library": "var_list.r",
     "varRefreshCmd": "cat(var_dic_list()) "
    }
   },
   "types_to_exclude": [
    "module",
    "function",
    "builtin_function_or_method",
    "instance",
    "_Feature"
   ],
   "window_display": false
  }
 },
 "nbformat": 4,
 "nbformat_minor": 5
}
