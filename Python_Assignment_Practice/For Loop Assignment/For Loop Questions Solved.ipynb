{
 "cells": [
  {
   "cell_type": "code",
   "execution_count": 1,
   "id": "48ca1e36",
   "metadata": {},
   "outputs": [
    {
     "name": "stdout",
     "output_type": "stream",
     "text": [
      "2 4 6 8 10 12 14 16 18 "
     ]
    }
   ],
   "source": [
    "#Q1. Write a program to print first 10 even numbers.\n",
    "for i in range(2,20,2):\n",
    "    print(i,end = \" \")"
   ]
  },
  {
   "cell_type": "code",
   "execution_count": 2,
   "id": "5d215757",
   "metadata": {},
   "outputs": [
    {
     "name": "stdout",
     "output_type": "stream",
     "text": [
      "1 3 5 7 9 11 13 15 17 19 "
     ]
    }
   ],
   "source": [
    "#Q2. Write a program to print first 10 odd numbers.\n",
    "for i in range(1,20,2):\n",
    "    print(i,end=' ')"
   ]
  },
  {
   "cell_type": "code",
   "execution_count": 3,
   "id": "494765e2",
   "metadata": {},
   "outputs": [
    {
     "name": "stdout",
     "output_type": "stream",
     "text": [
      "20 18 16 14 12 10 8 6 4 2 "
     ]
    }
   ],
   "source": [
    "#Q3. Write a program to print first 10 even numbers in reverse order.\n",
    "for i in range(20,1,-2):\n",
    "    print(i,end=\" \")"
   ]
  },
  {
   "cell_type": "code",
   "execution_count": 6,
   "id": "fa1dbbd8",
   "metadata": {},
   "outputs": [
    {
     "name": "stdout",
     "output_type": "stream",
     "text": [
      "enter no : 6\n",
      "720\n"
     ]
    }
   ],
   "source": [
    "#Q4. Write a program to find the factorial of a number.\n",
    "n = int(input('enter no : ',))\n",
    "fact = 1\n",
    "for i in range(1,n+1):\n",
    "    fact = fact*i\n",
    "print(fact)    "
   ]
  },
  {
   "cell_type": "code",
   "execution_count": 1,
   "id": "1cf695e2",
   "metadata": {},
   "outputs": [],
   "source": [
    "#Q5. Write a program to check whether a number is prime or not.  "
   ]
  },
  {
   "cell_type": "code",
   "execution_count": 2,
   "id": "5c6daafa",
   "metadata": {},
   "outputs": [
    {
     "name": "stdout",
     "output_type": "stream",
     "text": [
      "1 5 7 11 13 17 19 "
     ]
    }
   ],
   "source": [
    "#Q6. Write a program to print numbers from 1 to 20 except multiple of 2 & 3.\n",
    "for i in range(1,20):\n",
    "    if i%2!=0 and i%3!=0:\n",
    "        print(i,end=' ')    "
   ]
  },
  {
   "cell_type": "code",
   "execution_count": 9,
   "id": "b116a1f1",
   "metadata": {},
   "outputs": [
    {
     "name": "stdout",
     "output_type": "stream",
     "text": [
      "Enter number 1: 1\n",
      "Enter number 2: 1\n",
      "Enter number 3: 1\n",
      "Enter number 4: 1\n",
      "Enter number 5: 1\n",
      "Enter number 6: 1\n",
      "Enter number 7: 1\n",
      "Enter number 8: 1\n",
      "Enter number 9: 1\n",
      "Enter number 10: 1\n",
      "Average of the 10 numbers is: 1.0\n"
     ]
    }
   ],
   "source": [
    "#Q7. Write a program to accept 10 numbers from the user and display it’s average.\n",
    "total = 0\n",
    "\n",
    "for i in range(10):\n",
    "    num = float(input(f\"Enter number {i + 1}: \"))\n",
    "    total += num\n",
    "\n",
    "average = total / 10\n",
    "print(\"Average of the 10 numbers is:\", average)\n"
   ]
  },
  {
   "cell_type": "code",
   "execution_count": 3,
   "id": "eed41021",
   "metadata": {},
   "outputs": [
    {
     "name": "stdout",
     "output_type": "stream",
     "text": [
      "enter your no 1:1\n",
      "enter your no 2:1\n",
      "enter your no 3:1\n",
      "enter your no 4:1\n",
      "enter your no 5:1\n",
      "enter your no 6:1\n",
      "enter your no 7:1\n",
      "enter your no 8:1\n",
      "enter your no 9:1\n",
      "enter your no 10:1\n",
      "1.0\n"
     ]
    }
   ],
   "source": [
    "total = 0\n",
    "for i in range(10):\n",
    "    num = int(input(f\"enter your no {i+1}:\"))\n",
    "    total+=num\n",
    "average = total/10\n",
    "print(average)"
   ]
  },
  {
   "cell_type": "code",
   "execution_count": 5,
   "id": "a2284608",
   "metadata": {},
   "outputs": [
    {
     "name": "stdout",
     "output_type": "stream",
     "text": [
      "enter your no 1 : 1\n",
      "enter your no 2 : 3\n",
      "enter your no 3 : 4\n",
      "enter your no 4 : 2\n",
      "enter your no 5 : 3\n",
      "enter your no 6 : 2\n",
      "enter your no 7 : 3\n",
      "enter your no 8 : 4\n",
      "enter your no 9 : 2\n",
      "enter your no 10 : 4\n",
      "[1, 3, 4, 2, 3, 2, 3, 4, 2, 4]\n",
      "4\n",
      "1\n"
     ]
    }
   ],
   "source": [
    "# Q8. Write a program to accept 10 numbers from the user and display the largest & smallest number.\n",
    "list1 = []\n",
    "for i in range(10):\n",
    "    num = int(input(f\"enter your no {i+1} : \"))\n",
    "    list1.append(num)\n",
    "print(list1)\n",
    "print(max(list1))\n",
    "print(min(list1))\n",
    "        \n",
    "        "
   ]
  },
  {
   "cell_type": "code",
   "execution_count": 12,
   "id": "c46231c5",
   "metadata": {},
   "outputs": [
    {
     "name": "stdout",
     "output_type": "stream",
     "text": [
      "[23, 45, 25, 33, 71]\n"
     ]
    }
   ],
   "source": [
    "#Q9. Write a program to print only odd numbers from the given list using for loop. \n",
    "L = [23, 45, 32, 25, 46, 33, 71, 90]\n",
    "odd = []\n",
    "for i in L:\n",
    "    if i%2!=0:\n",
    "        odd.append(i)\n",
    "print(odd)"
   ]
  },
  {
   "cell_type": "code",
   "execution_count": 13,
   "id": "f629a08c",
   "metadata": {},
   "outputs": [
    {
     "name": "stdout",
     "output_type": "stream",
     "text": [
      "5 5 5 5 5 \n",
      "4 4 4 4 \n",
      "3 3 3 \n",
      "2 2 \n",
      "1 \n"
     ]
    }
   ],
   "source": [
    "\"\"\"Q10. Write a program to print the following pattern\n",
    "\n",
    "5 5 5 5 5\n",
    "4 4 4 4\n",
    "3 3 3\n",
    "2 2\n",
    "1\"\"\"\n",
    "\n",
    "rows = 5\n",
    "\n",
    "for i in range(rows, 0, -1):\n",
    "    for j in range(0, i):\n",
    "        print(i, end=\" \")\n",
    "    print()\n"
   ]
  },
  {
   "cell_type": "code",
   "execution_count": 16,
   "id": "e6827276",
   "metadata": {},
   "outputs": [
    {
     "name": "stdout",
     "output_type": "stream",
     "text": [
      "25\n",
      "64\n",
      "121\n",
      "196\n"
     ]
    }
   ],
   "source": [
    "#Q6. Predict the output:\n",
    "x=5\n",
    "while(x<15):\n",
    "    print(x**2)\n",
    "    x+=3"
   ]
  },
  {
   "cell_type": "code",
   "execution_count": null,
   "id": "6882f6ea",
   "metadata": {},
   "outputs": [],
   "source": [
    "#Q7.\n",
    "a=7\n",
    "b=5\n",
    "while(a<9):\n",
    "    print(a+b)\n",
    "    a+=1"
   ]
  },
  {
   "cell_type": "code",
   "execution_count": null,
   "id": "49b226d0",
   "metadata": {},
   "outputs": [],
   "source": [
    "#Q8.\tb=5\n",
    "while(b<9):\n",
    "    print(\"H\")\n",
    "    b+=1"
   ]
  },
  {
   "cell_type": "code",
   "execution_count": null,
   "id": "a8b7a78b",
   "metadata": {},
   "outputs": [],
   "source": [
    "Q9. b=15\n",
    "while(b>9):\n",
    "    print(\"Hello\")\n",
    "    b=b-2"
   ]
  },
  {
   "cell_type": "code",
   "execution_count": 1,
   "id": "b6168d14",
   "metadata": {},
   "outputs": [
    {
     "name": "stdout",
     "output_type": "stream",
     "text": [
      "a\n",
      "a\n",
      "a\n"
     ]
    }
   ],
   "source": [
    "#Q10.\n",
    "x = \"123\"\n",
    "for i in x:\n",
    "    print(\"a\")"
   ]
  },
  {
   "cell_type": "code",
   "execution_count": 2,
   "id": "3ec3d261",
   "metadata": {},
   "outputs": [
    {
     "name": "stdout",
     "output_type": "stream",
     "text": [
      "a\n",
      "a\n",
      "a\n",
      "a\n",
      "a\n"
     ]
    }
   ],
   "source": [
    "#Q11\n",
    "a=6\n",
    "while(a<=10):\n",
    "    print(\"a\")\n",
    "    a+=1 "
   ]
  },
  {
   "cell_type": "code",
   "execution_count": null,
   "id": "b8df963e",
   "metadata": {},
   "outputs": [],
   "source": [
    "#Q12.\ti=0\n",
    "while i<3:\n",
    "    print(i)\n",
    "    i=i+1\n",
    "    print(0)"
   ]
  },
  {
   "cell_type": "code",
   "execution_count": null,
   "id": "c15677f0",
   "metadata": {},
   "outputs": [],
   "source": [
    "#Q13.\n",
    "i=2\n",
    "for x in range(i):\n",
    "    i+=1\n",
    "    print(i)\n",
    "    print(i)"
   ]
  },
  {
   "cell_type": "code",
   "execution_count": null,
   "id": "00dd1feb",
   "metadata": {},
   "outputs": [],
   "source": [
    "i=2\n",
    "for x in range(i):\n",
    "    x+=1\n",
    "    print(x)\n",
    "    print(x)"
   ]
  },
  {
   "cell_type": "code",
   "execution_count": 3,
   "id": "a6ad89cd",
   "metadata": {},
   "outputs": [
    {
     "name": "stdout",
     "output_type": "stream",
     "text": [
      "1\n",
      "x\n",
      "2\n",
      "x\n"
     ]
    }
   ],
   "source": [
    "i=2\n",
    "for x in range(i):\n",
    "  x+=1\n",
    "  print(x)\n",
    "  print(\"x\")"
   ]
  },
  {
   "cell_type": "code",
   "execution_count": null,
   "id": "030e1528",
   "metadata": {},
   "outputs": [],
   "source": [
    "c = -9\n",
    "while c < 20:\n",
    "  c += 3\n",
    "  print(c)"
   ]
  },
  {
   "cell_type": "code",
   "execution_count": null,
   "id": "75d494aa",
   "metadata": {},
   "outputs": [],
   "source": [
    "a=5\n",
    "while a>0:\n",
    "   print(a)\n",
    "   a=a-1"
   ]
  },
  {
   "cell_type": "code",
   "execution_count": null,
   "id": "ca543e91",
   "metadata": {},
   "outputs": [],
   "source": [
    "#Q. Convert the following loop into for loop :\n",
    "x = 4\n",
    "while(x<=8):\n",
    "    print(x*10)\n",
    "    x+=2"
   ]
  },
  {
   "cell_type": "code",
   "execution_count": null,
   "id": "04771a90",
   "metadata": {},
   "outputs": [],
   "source": [
    "#Q. Predict the Output\n",
    "x=3\n",
    "if x>2 or x<5 and x==6:\n",
    "    print(“Bye”)\n",
    "else:\n",
    "    print(“Thankyou”)"
   ]
  },
  {
   "cell_type": "code",
   "execution_count": null,
   "id": "89a7c78a",
   "metadata": {},
   "outputs": [],
   "source": [
    "x,y=2,4\n",
    "if(x+y==10):\n",
    "    print(“Thankyou”)\n",
    "else:\n",
    "    print(“Bye”)"
   ]
  },
  {
   "cell_type": "code",
   "execution_count": null,
   "id": "3d3f0f2d",
   "metadata": {},
   "outputs": [],
   "source": [
    "x=10\n",
    "y=1\n",
    "while x>y:\n",
    "    x=x-4\n",
    "    y=y+3\n",
    "    print(x)\n"
   ]
  },
  {
   "cell_type": "code",
   "execution_count": 10,
   "id": "722387ed",
   "metadata": {},
   "outputs": [
    {
     "name": "stdout",
     "output_type": "stream",
     "text": [
      "A\n"
     ]
    }
   ],
   "source": [
    "i=9\n",
    "while True:\n",
    "    if i%3==0:\n",
    "        break\n",
    "print(\"A\")"
   ]
  },
  {
   "cell_type": "code",
   "execution_count": 11,
   "id": "aebecfd0",
   "metadata": {},
   "outputs": [
    {
     "name": "stdout",
     "output_type": "stream",
     "text": [
      "Python output based question\n"
     ]
    }
   ],
   "source": [
    "n = 11\n",
    "for i in range(2, n//2):\n",
    "    if n%i != 0:\n",
    "        print(\"Python output based question\")\n",
    "        break\n",
    "    else:\n",
    "        print(\"Bye\")"
   ]
  },
  {
   "cell_type": "code",
   "execution_count": 14,
   "id": "de35f5ea",
   "metadata": {},
   "outputs": [
    {
     "name": "stdout",
     "output_type": "stream",
     "text": [
      "Python output based questions\n",
      "Bye\n",
      "Python output based questions\n"
     ]
    }
   ],
   "source": [
    "n=20\n",
    "for i in range(2,n//4):\n",
    "    if n%i == 0:\n",
    "            print(\"Python output based questions\")\n",
    "    else:\n",
    "        print(\"Bye\")"
   ]
  },
  {
   "cell_type": "code",
   "execution_count": 15,
   "id": "7d49cead",
   "metadata": {},
   "outputs": [
    {
     "name": "stdout",
     "output_type": "stream",
     "text": [
      "2\n",
      "2\n",
      "2\n"
     ]
    }
   ],
   "source": [
    "x=2\n",
    "for i in range(x-1,x**2):\n",
    "    print(x)\n"
   ]
  },
  {
   "cell_type": "code",
   "execution_count": null,
   "id": "aa6060b7",
   "metadata": {},
   "outputs": [],
   "source": []
  }
 ],
 "metadata": {
  "kernelspec": {
   "display_name": "Python 3 (ipykernel)",
   "language": "python",
   "name": "python3"
  },
  "language_info": {
   "codemirror_mode": {
    "name": "ipython",
    "version": 3
   },
   "file_extension": ".py",
   "mimetype": "text/x-python",
   "name": "python",
   "nbconvert_exporter": "python",
   "pygments_lexer": "ipython3",
   "version": "3.9.12"
  },
  "varInspector": {
   "cols": {
    "lenName": 16,
    "lenType": 16,
    "lenVar": 40
   },
   "kernels_config": {
    "python": {
     "delete_cmd_postfix": "",
     "delete_cmd_prefix": "del ",
     "library": "var_list.py",
     "varRefreshCmd": "print(var_dic_list())"
    },
    "r": {
     "delete_cmd_postfix": ") ",
     "delete_cmd_prefix": "rm(",
     "library": "var_list.r",
     "varRefreshCmd": "cat(var_dic_list()) "
    }
   },
   "types_to_exclude": [
    "module",
    "function",
    "builtin_function_or_method",
    "instance",
    "_Feature"
   ],
   "window_display": false
  }
 },
 "nbformat": 4,
 "nbformat_minor": 5
}
