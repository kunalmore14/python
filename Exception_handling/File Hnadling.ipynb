{
 "cells": [
  {
   "cell_type": "markdown",
   "metadata": {},
   "source": [
    "# File Handling"
   ]
  },
  {
   "cell_type": "markdown",
   "metadata": {},
   "source": [
    "f = open(\"test.txt\")    # open file in current directory\n",
    "\n",
    "f = open(\"C:/Python38/README.txt\")  # specifying full path"
   ]
  },
  {
   "cell_type": "markdown",
   "metadata": {},
   "source": [
    "when working with files in text mode, it is highly recommended to specify the encoding type.\n",
    "\n",
    "f = open(\"test.txt\", mode='r')\n"
   ]
  },
  {
   "cell_type": "code",
   "execution_count": null,
   "metadata": {},
   "outputs": [],
   "source": []
  },
  {
   "cell_type": "code",
   "execution_count": null,
   "metadata": {},
   "outputs": [],
   "source": []
  },
  {
   "cell_type": "code",
   "execution_count": 2,
   "metadata": {},
   "outputs": [
    {
     "data": {
      "text/plain": [
       "13"
      ]
     },
     "execution_count": 2,
     "metadata": {},
     "output_type": "execute_result"
    }
   ],
   "source": [
    "f = open(\"Python.txt\",\"w\")\n",
    "f.write(\"Python is awesome\")\n",
    "f.write(\"I love python\")\n",
    "\n"
   ]
  },
  {
   "cell_type": "code",
   "execution_count": 4,
   "metadata": {},
   "outputs": [
    {
     "data": {
      "text/plain": [
       "13"
      ]
     },
     "execution_count": 4,
     "metadata": {},
     "output_type": "execute_result"
    }
   ],
   "source": [
    "f = open(\"Python1.txt\",\"w\")\n",
    "f.write(\"Python is awesome\\n\")\n",
    "f.write(\"I love python\")"
   ]
  },
  {
   "cell_type": "code",
   "execution_count": 5,
   "metadata": {},
   "outputs": [
    {
     "name": "stdout",
     "output_type": "stream",
     "text": [
      "Python is awesomeI love python\n"
     ]
    }
   ],
   "source": [
    "f1 = open(\"Python.txt\",\"r\")\n",
    "print(f1.read())\n"
   ]
  },
  {
   "cell_type": "code",
   "execution_count": 6,
   "metadata": {},
   "outputs": [
    {
     "name": "stdout",
     "output_type": "stream",
     "text": [
      "Python is awesome\n",
      "I love python\n"
     ]
    }
   ],
   "source": [
    "f2  = open(\"Python1.txt\",\"r\")\n",
    "print(f2.read())\n"
   ]
  },
  {
   "cell_type": "code",
   "execution_count": 8,
   "metadata": {},
   "outputs": [
    {
     "data": {
      "text/plain": [
       "43"
      ]
     },
     "execution_count": 8,
     "metadata": {},
     "output_type": "execute_result"
    }
   ],
   "source": [
    "f3 = open(\"Python1.txt\",\"a\")\n",
    "f3.write(\"Python is my favourite programming language\")"
   ]
  },
  {
   "cell_type": "code",
   "execution_count": 11,
   "metadata": {},
   "outputs": [
    {
     "name": "stdout",
     "output_type": "stream",
     "text": [
      "Python is awesome\n",
      "I love pythonPython is my favourite programming languagePython is my favourite programming language\n"
     ]
    }
   ],
   "source": [
    "f3 = open(\"Python1.txt\",\"r\")\n",
    "\n",
    "print(f3.read())\n",
    "f3.close()"
   ]
  },
  {
   "cell_type": "code",
   "execution_count": 12,
   "metadata": {},
   "outputs": [
    {
     "ename": "ValueError",
     "evalue": "I/O operation on closed file.",
     "output_type": "error",
     "traceback": [
      "\u001b[1;31m---------------------------------------------------------------------------\u001b[0m",
      "\u001b[1;31mValueError\u001b[0m                                Traceback (most recent call last)",
      "\u001b[1;32m<ipython-input-12-8f44e6b68782>\u001b[0m in \u001b[0;36m<module>\u001b[1;34m\u001b[0m\n\u001b[1;32m----> 1\u001b[1;33m \u001b[0mprint\u001b[0m\u001b[1;33m(\u001b[0m\u001b[0mf3\u001b[0m\u001b[1;33m.\u001b[0m\u001b[0mread\u001b[0m\u001b[1;33m(\u001b[0m\u001b[1;33m)\u001b[0m\u001b[1;33m)\u001b[0m\u001b[1;33m\u001b[0m\u001b[1;33m\u001b[0m\u001b[0m\n\u001b[0m",
      "\u001b[1;31mValueError\u001b[0m: I/O operation on closed file."
     ]
    }
   ],
   "source": [
    "print(f3.read())"
   ]
  },
  {
   "cell_type": "code",
   "execution_count": 13,
   "metadata": {},
   "outputs": [],
   "source": [
    "f1.close()"
   ]
  },
  {
   "cell_type": "code",
   "execution_count": 14,
   "metadata": {},
   "outputs": [],
   "source": [
    "f2.close()"
   ]
  },
  {
   "cell_type": "code",
   "execution_count": 15,
   "metadata": {},
   "outputs": [],
   "source": [
    "f3.close()"
   ]
  },
  {
   "cell_type": "markdown",
   "metadata": {},
   "source": [
    "Another method to write code:\n",
    "\n",
    "with open(\"test.txt\", encoding = 'utf-8') as f:\n",
    "\n",
    "   #perform file operations\n"
   ]
  },
  {
   "cell_type": "code",
   "execution_count": 3,
   "metadata": {},
   "outputs": [],
   "source": [
    "import os"
   ]
  },
  {
   "cell_type": "code",
   "execution_count": 4,
   "metadata": {},
   "outputs": [
    {
     "data": {
      "text/plain": [
       "'C:\\\\Users\\\\hp\\\\Downloads'"
      ]
     },
     "execution_count": 4,
     "metadata": {},
     "output_type": "execute_result"
    }
   ],
   "source": [
    "os.getcwd()"
   ]
  },
  {
   "cell_type": "code",
   "execution_count": 5,
   "metadata": {},
   "outputs": [
    {
     "name": "stdout",
     "output_type": "stream",
     "text": [
      "C:\\Users\\hp\\Downloads\n"
     ]
    }
   ],
   "source": [
    "print(os.getcwd())#remove extra backslash"
   ]
  },
  {
   "cell_type": "code",
   "execution_count": 6,
   "metadata": {},
   "outputs": [],
   "source": [
    "os.chdir('F:\\\\')"
   ]
  },
  {
   "cell_type": "code",
   "execution_count": 7,
   "metadata": {},
   "outputs": [
    {
     "name": "stdout",
     "output_type": "stream",
     "text": [
      "F:\\\n"
     ]
    }
   ],
   "source": [
    "print(os.getcwd())"
   ]
  },
  {
   "cell_type": "code",
   "execution_count": 8,
   "metadata": {},
   "outputs": [
    {
     "data": {
      "text/plain": [
       "['$RECYCLE.BIN',\n",
       " 'Day 2- Basic Stats ( Data Types,central tendency and dispersion)-20220531T134055Z-001.zip',\n",
       " 'Day 3 - Visualizations-20220531T134217Z-001.zip',\n",
       " 'System Volume Information']"
      ]
     },
     "execution_count": 8,
     "metadata": {},
     "output_type": "execute_result"
    }
   ],
   "source": [
    "os.listdir()"
   ]
  },
  {
   "cell_type": "code",
   "execution_count": 9,
   "metadata": {},
   "outputs": [
    {
     "data": {
      "text/plain": [
       "['$RECYCLE.BIN',\n",
       " 'ANACONDA',\n",
       " 'ASIM TRIVEDI AUDIT',\n",
       " 'Audit',\n",
       " 'd bk up',\n",
       " 'DumpStack.log.tmp',\n",
       " 'Financial reporting',\n",
       " 'hp',\n",
       " 'Intel',\n",
       " 'khoth siddhesh',\n",
       " 'law',\n",
       " 'NetTech India',\n",
       " 'New Folder',\n",
       " 'open cv',\n",
       " 'ORACLE',\n",
       " 'OS module.py',\n",
       " 'Python ML Notes',\n",
       " 'Rahul malkan',\n",
       " 'Sanvee',\n",
       " 'SFM_Sarraf',\n",
       " 'System Volume Information',\n",
       " 'Users']"
      ]
     },
     "execution_count": 9,
     "metadata": {},
     "output_type": "execute_result"
    }
   ],
   "source": [
    "os.listdir('D:\\\\')"
   ]
  },
  {
   "cell_type": "code",
   "execution_count": 10,
   "metadata": {},
   "outputs": [],
   "source": [
    "os.mkdir('test')"
   ]
  },
  {
   "cell_type": "code",
   "execution_count": 11,
   "metadata": {},
   "outputs": [],
   "source": [
    "os.rename('test','new_one')"
   ]
  },
  {
   "cell_type": "code",
   "execution_count": 12,
   "metadata": {},
   "outputs": [
    {
     "data": {
      "text/plain": [
       "['$RECYCLE.BIN',\n",
       " 'Day 2- Basic Stats ( Data Types,central tendency and dispersion)-20220531T134055Z-001.zip',\n",
       " 'Day 3 - Visualizations-20220531T134217Z-001.zip',\n",
       " 'new_one',\n",
       " 'System Volume Information']"
      ]
     },
     "execution_count": 12,
     "metadata": {},
     "output_type": "execute_result"
    }
   ],
   "source": [
    "os.listdir()"
   ]
  },
  {
   "cell_type": "code",
   "execution_count": 13,
   "metadata": {},
   "outputs": [],
   "source": [
    "os.rmdir('new_one')#remove only empty directories"
   ]
  },
  {
   "cell_type": "code",
   "execution_count": 15,
   "metadata": {},
   "outputs": [],
   "source": [
    "os.chdir('D:\\\\')"
   ]
  },
  {
   "cell_type": "code",
   "execution_count": 17,
   "metadata": {},
   "outputs": [
    {
     "data": {
      "text/plain": [
       "['$RECYCLE.BIN',\n",
       " 'ANACONDA',\n",
       " 'ASIM TRIVEDI AUDIT',\n",
       " 'Audit',\n",
       " 'd bk up',\n",
       " 'DumpStack.log.tmp',\n",
       " 'Financial reporting',\n",
       " 'hp',\n",
       " 'Intel',\n",
       " 'khoth siddhesh',\n",
       " 'law',\n",
       " 'NetTech India',\n",
       " 'New Folder',\n",
       " 'open cv',\n",
       " 'ORACLE',\n",
       " 'OS module.py',\n",
       " 'Python ML Notes',\n",
       " 'Rahul malkan',\n",
       " 'Sanvee',\n",
       " 'SFM_Sarraf',\n",
       " 'System Volume Information',\n",
       " 'Users']"
      ]
     },
     "execution_count": 17,
     "metadata": {},
     "output_type": "execute_result"
    }
   ],
   "source": [
    "os.listdir()"
   ]
  },
  {
   "cell_type": "code",
   "execution_count": 19,
   "metadata": {},
   "outputs": [],
   "source": [
    "os.remove('OS module.py')"
   ]
  },
  {
   "cell_type": "code",
   "execution_count": null,
   "metadata": {},
   "outputs": [],
   "source": []
  },
  {
   "cell_type": "code",
   "execution_count": 20,
   "metadata": {},
   "outputs": [
    {
     "data": {
      "text/plain": [
       "['$RECYCLE.BIN',\n",
       " 'ANACONDA',\n",
       " 'ASIM TRIVEDI AUDIT',\n",
       " 'Audit',\n",
       " 'd bk up',\n",
       " 'DumpStack.log.tmp',\n",
       " 'Financial reporting',\n",
       " 'hp',\n",
       " 'Intel',\n",
       " 'khoth siddhesh',\n",
       " 'law',\n",
       " 'NetTech India',\n",
       " 'New Folder',\n",
       " 'open cv',\n",
       " 'ORACLE',\n",
       " 'Python ML Notes',\n",
       " 'Rahul malkan',\n",
       " 'Sanvee',\n",
       " 'SFM_Sarraf',\n",
       " 'System Volume Information',\n",
       " 'Users']"
      ]
     },
     "execution_count": 20,
     "metadata": {},
     "output_type": "execute_result"
    }
   ],
   "source": [
    "os.listdir()"
   ]
  },
  {
   "cell_type": "markdown",
   "metadata": {},
   "source": [
    "Python Module Search Path : \n",
    "\n",
    "While importing a module, Python looks at several places. Interpreter first looks for a built-in module. Then(if built-in module not found), Python looks into a list of directories defined in sys.path. The search is in this order.\n",
    "\n",
    "The current directory.\n",
    "\n",
    "PYTHONPATH (an environment variable with a list of directories).\n",
    "\n",
    "The installation-dependent default directory."
   ]
  },
  {
   "cell_type": "code",
   "execution_count": 21,
   "metadata": {},
   "outputs": [],
   "source": [
    "import sys "
   ]
  },
  {
   "cell_type": "code",
   "execution_count": 22,
   "metadata": {},
   "outputs": [
    {
     "data": {
      "text/plain": [
       "['C:\\\\Users\\\\hp\\\\Downloads',\n",
       " 'D:\\\\ANACONDA\\\\python38.zip',\n",
       " 'D:\\\\ANACONDA\\\\DLLs',\n",
       " 'D:\\\\ANACONDA\\\\lib',\n",
       " 'D:\\\\ANACONDA',\n",
       " '',\n",
       " 'D:\\\\ANACONDA\\\\lib\\\\site-packages',\n",
       " 'D:\\\\ANACONDA\\\\lib\\\\site-packages\\\\win32',\n",
       " 'D:\\\\ANACONDA\\\\lib\\\\site-packages\\\\win32\\\\lib',\n",
       " 'D:\\\\ANACONDA\\\\lib\\\\site-packages\\\\Pythonwin',\n",
       " 'D:\\\\ANACONDA\\\\lib\\\\site-packages\\\\IPython\\\\extensions',\n",
       " 'C:\\\\Users\\\\hp\\\\.ipython']"
      ]
     },
     "execution_count": 22,
     "metadata": {},
     "output_type": "execute_result"
    }
   ],
   "source": [
    "sys.path"
   ]
  },
  {
   "cell_type": "markdown",
   "metadata": {},
   "source": []
  },
  {
   "cell_type": "code",
   "execution_count": 23,
   "metadata": {},
   "outputs": [],
   "source": [
    "import pickle"
   ]
  },
  {
   "cell_type": "code",
   "execution_count": 24,
   "metadata": {},
   "outputs": [],
   "source": [
    "textbook = [\"English\", \"Hindi\", \"Maths\", \"Science\", \"History\", \"Geography\"]"
   ]
  },
  {
   "cell_type": "code",
   "execution_count": 25,
   "metadata": {},
   "outputs": [],
   "source": [
    "file = \"text.pkl\""
   ]
  },
  {
   "cell_type": "code",
   "execution_count": 26,
   "metadata": {},
   "outputs": [],
   "source": [
    "fileobj = open(file,\"wb\")"
   ]
  },
  {
   "cell_type": "code",
   "execution_count": 27,
   "metadata": {},
   "outputs": [],
   "source": [
    "pickle.dump(textbook, fileobj)"
   ]
  },
  {
   "cell_type": "code",
   "execution_count": 28,
   "metadata": {},
   "outputs": [],
   "source": [
    "fileobj.close()"
   ]
  },
  {
   "cell_type": "code",
   "execution_count": 29,
   "metadata": {},
   "outputs": [],
   "source": [
    "#unpack of file \n",
    "file1 = \"text.pkl\""
   ]
  },
  {
   "cell_type": "code",
   "execution_count": 30,
   "metadata": {},
   "outputs": [],
   "source": [
    "fileobj1 = open(file1,\"rb\")"
   ]
  },
  {
   "cell_type": "code",
   "execution_count": 31,
   "metadata": {},
   "outputs": [],
   "source": [
    "MyText = pickle.load(fileobj1)"
   ]
  },
  {
   "cell_type": "code",
   "execution_count": 32,
   "metadata": {},
   "outputs": [
    {
     "name": "stdout",
     "output_type": "stream",
     "text": [
      "['English', 'Hindi', 'Maths', 'Science', 'History', 'Geography']\n"
     ]
    }
   ],
   "source": [
    "print(MyText)"
   ]
  },
  {
   "cell_type": "code",
   "execution_count": 33,
   "metadata": {},
   "outputs": [
    {
     "name": "stdout",
     "output_type": "stream",
     "text": [
      "<class 'list'>\n"
     ]
    }
   ],
   "source": [
    "print(type(MyText))"
   ]
  },
  {
   "cell_type": "code",
   "execution_count": null,
   "metadata": {},
   "outputs": [],
   "source": []
  }
 ],
 "metadata": {
  "kernelspec": {
   "display_name": "Python 3",
   "language": "python",
   "name": "python3"
  },
  "language_info": {
   "codemirror_mode": {
    "name": "ipython",
    "version": 3
   },
   "file_extension": ".py",
   "mimetype": "text/x-python",
   "name": "python",
   "nbconvert_exporter": "python",
   "pygments_lexer": "ipython3",
   "version": "3.8.5"
  }
 },
 "nbformat": 4,
 "nbformat_minor": 4
}
