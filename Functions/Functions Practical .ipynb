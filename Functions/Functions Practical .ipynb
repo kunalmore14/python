{
 "cells": [
  {
   "cell_type": "code",
   "execution_count": 1,
   "id": "ea29b75f",
   "metadata": {},
   "outputs": [
    {
     "name": "stdout",
     "output_type": "stream",
     "text": [
      "60.0\n"
     ]
    }
   ],
   "source": [
    "# Functions\n",
    "#Q1 Create a function to calculate the the area of triangle\n",
    "\n",
    "def Area(base, height):\n",
    "    return 0.5 * base * height\n",
    "print(Area(10, 12))"
   ]
  },
  {
   "cell_type": "code",
   "execution_count": 2,
   "id": "f6443731",
   "metadata": {},
   "outputs": [
    {
     "name": "stdout",
     "output_type": "stream",
     "text": [
      "523.3333333333334\n"
     ]
    }
   ],
   "source": [
    "#Q2 Create a function that calculates the the volume of sphere\n",
    "\n",
    "def vol(r):\n",
    "    return (4/3)*3.14*(r**3)\n",
    "print(vol(5))"
   ]
  },
  {
   "cell_type": "code",
   "execution_count": 4,
   "id": "25bb1b9e",
   "metadata": {},
   "outputs": [
    {
     "name": "stdout",
     "output_type": "stream",
     "text": [
      "50.24\n",
      "500\n"
     ]
    }
   ],
   "source": [
    "#Q3 Explain what is default and required arguments with an example of each\n",
    "\n",
    "# Default values are passed using '=' operator.\n",
    "\n",
    "def areaofcircle(radius,pi=3.14):\n",
    "    return pi*radius*radius\n",
    "print (areaofcircle(4))\n",
    "# pi is default argument\n",
    "\n",
    "# required arguments must be passed during the fuction call \n",
    "# and exactly in the right order.\n",
    "\n",
    "def areaofrectangle(length,width):\n",
    "    return length * width\n",
    "print(areaofrectangle(20,25))\n"
   ]
  },
  {
   "cell_type": "code",
   "execution_count": 9,
   "id": "651f365c",
   "metadata": {},
   "outputs": [
    {
     "name": "stdout",
     "output_type": "stream",
     "text": [
      "The youngest child is c\n",
      "Her name is chandni\n"
     ]
    }
   ],
   "source": [
    "#Q4 Explain what is variable length arguments i.e *args & **kwargs with an example of each\n",
    "\n",
    "#Arbitrary Arguments, *args\n",
    "\n",
    "#If you do not know how many arguments that will be passed into your function, add a * before the parameter\n",
    "#name in the function definition.\n",
    "\n",
    "def child(*kids):\n",
    "    print('The youngest child is '+ kids[2])\n",
    "child('a','b','c')\n",
    "\n",
    "#Arbitrary Keyword Arguments, **kwargs\n",
    "\n",
    "#If you do not know how many keyword arguments that will be passed into your function, add two asterisk: **\n",
    "#before the parameter name in the function definition.\n",
    "\n",
    "def child(**girl):\n",
    "    print('Her name is '+ girl['fn'])\n",
    "child(fn='chandni',ln='arya')"
   ]
  },
  {
   "cell_type": "code",
   "execution_count": 13,
   "id": "95af7a00",
   "metadata": {},
   "outputs": [
    {
     "name": "stdout",
     "output_type": "stream",
     "text": [
      "Enter a Number: 5\n",
      "5 is a Prime Number\n"
     ]
    }
   ],
   "source": [
    "#Q5 WAP to create function of prime no\n",
    "import math\n",
    "\n",
    "def checkPrime(n):\n",
    "    if n < 2:\n",
    "        return 1\n",
    "    for i in range(2, int(math.sqrt(n))+1):\n",
    "        if n%i == 0:\n",
    "            return 1\n",
    "    return 0\n",
    "\n",
    "print(\"Enter a Number: \", end=\"\")\n",
    "n = int(input())\n",
    "\n",
    "p = checkPrime(n)\n",
    "if p == 1:\n",
    "    print(n, \"is not a Prime Number\")\n",
    "else:\n",
    "    print(n, \"is a Prime Number\")\n",
    "\n",
    "    \n",
    "#The given code defines a function \"checkPrime(n)\"\" that takes an integer n as input and checks if it is a prime number or not.\n",
    "\n",
    "#The function returns \"1\" if the number is not prime and 0 if it is prime.\n",
    "\n",
    "#The function first checks if the number is less than \"2\".\n",
    "\n",
    "#If it is, then it is not a prime number, so the function returns \"1\".\n",
    "\n",
    "#If the number is greater than or equal to \"2\", the function checks if it is divisible by any number from \"2\" to the square root of \"n\". \n",
    "\n",
    "#If it is divisible by any number in that range, then it is not a prime number, so the function returns \"1\". \n",
    "\n",
    "#Otherwise, it returns \"0\", indicating that the number is prime.\n",
    "\n",
    "#After defining the checkPrime(n) function, the code prompts the user to enter a number and assigns it to the variable \"n\".\n",
    "\n",
    "#The code then calls the checkPrime(n) function to check if the number is prime or not.\n",
    "\n",
    "#If the function returns \"1\", the code prints a message indicating that the number is not prime.\n",
    "\n",
    "#Otherwise, it prints a message indicating that the number is prime."
   ]
  },
  {
   "cell_type": "code",
   "execution_count": 10,
   "id": "857971cb",
   "metadata": {},
   "outputs": [
    {
     "name": "stdout",
     "output_type": "stream",
     "text": [
      "Enter Number: 6\n",
      "6 is a perfect number\n"
     ]
    }
   ],
   "source": [
    "#Q6 WAP to create a function of perfect number\n",
    "\n",
    "def perfect_number(n):\n",
    "    sum = 0\n",
    "    for i in range(1, n):\n",
    "        if n % i == 0:\n",
    "            sum = sum+i \n",
    "    return sum \n",
    "n = int(input('Enter Number: '))\n",
    "if(n == perfect_number(n)): \n",
    "    print(n, \"is a perfect number\") \n",
    "else: \n",
    "    print(n, \"is not a perfect number\") \n",
    "    \n",
    "# The code defines a function perfect_number(n) that takes an integer n as input and computes the sum of all the proper divisors of n.\n",
    "# The function returns the sum.\n",
    "# The function uses a loop that iterates over all the numbers from 1 to n-1. For each number i, it checks if n is divisible by i.\n",
    "# If it is, then i is a proper divisor of n, so it adds i to the sum.\n",
    "# After defining the perfect_number(n) function, the code prompts the user to enter a The code then calls the perfect_number(n) function to compute the sum of the proper divisors of n.\n",
    "# If the sum is equal to n, the code prints a message indicating that n is a perfect number. \n",
    "# Otherwise, it prints a message indicating that n is not a perfect number.\n",
    "# A perfect number is a positive integer that is equal to the sum of its proper divisors.\n",
    "# For example, 6 is a perfect number because its proper divisors are 1, 2, and 3, and 1 + 2 + 3 = 6.\n",
    "# Note that the code assumes that the input n is a positive integer. \n",
    "# If the user enters a non-positive integer, the behavior of the code is not well-defined."
   ]
  },
  {
   "cell_type": "code",
   "execution_count": 2,
   "id": "b0c22b12",
   "metadata": {},
   "outputs": [
    {
     "name": "stdout",
     "output_type": "stream",
     "text": [
      "1 9 "
     ]
    }
   ],
   "source": [
    "#Q7 WAP to create a function of neon number\n",
    "\n",
    "def neon(x) :\n",
    "    sqr = x*x\n",
    "    sum = 0\n",
    "    while(sqr!=0):\n",
    "        sum=sum+(sqr%10)\n",
    "        sqr=sqr//10\n",
    "    return sum==x\n",
    "\n",
    "i = 1\n",
    "while i <= 10 : \n",
    "    if (neon(i)) : \n",
    "        print (i,end=' ')\n",
    "    i = i + 1   \n",
    "    \n",
    "#This is a Python code that defines a function neon(x) which takes an integer x as input and returns True if the sum of the digits of the square of x is equal to x, otherwise it returns False.\n",
    "\n",
    "#Then, a loop is used to iterate over the integers from 1 to 10, and for each integer i, the neon() function is called with i as input. \n",
    "#If the function returns True, then i is printed.\n",
    "\n",
    "#So, when you run this code, the output will be:\n",
    "#1,9\n",
    "#1 is a neon number because its square is 1, and the sum of the digits of 1 is also 1.\n",
    "#9 is a neon number because its square is 81, and the sum of the digits of 81 is 9.\n",
    "#Note that the output only includes the neon numbers between 1 and 10 (inclusive). \n",
    "#If you want to find all the neon numbers between 1 and a larger number n,\n",
    "# you can modify the loop to iterate over all the integers from 1 to n, and print the ones for which neon() returns True.\n",
    "\n",
    "\n",
    "\n",
    "\n",
    "\n"
   ]
  },
  {
   "cell_type": "code",
   "execution_count": 7,
   "id": "b3448e91",
   "metadata": {},
   "outputs": [
    {
     "name": "stdout",
     "output_type": "stream",
     "text": [
      "Odd numbers are:  [5, 13, 11]\n"
     ]
    }
   ],
   "source": [
    "#Q8 Explain what is lambda function with the help of example\n",
    "#anonymous functions are also called lambda functions \n",
    "#lambda arguments: expression\n",
    "\n",
    "list1=[2,5,8,6,10,12,13,11]\n",
    "odd_number=list(filter(lambda x: x % 2!=0,list1))\n",
    "print(\"Odd numbers are: \", odd_number)\n",
    "\n",
    "#This is a Python code that defines a list of integers list1, and then applies the filter() function to this list using a lambda function that checks if the number is odd or not.\n",
    "\n",
    "#The filter() function takes two arguments: a function that returns a boolean value, and an iterable (in this case, the list list1). \n",
    "#It returns a new iterable that contains only the elements of the original iterable for which the function returns True.\n",
    "\n",
    "#So, in this code, the lambda function lambda x: x % 2 != 0 checks if x is odd (i.e., if x % 2 is not equal to 0).\n",
    "\n",
    "#The filter() function applies this lambda function to each element of list1 and returns a new iterable containing only the odd numbers.\n",
    "#This new iterable is stored in the variable odd_number.\n",
    "\n",
    "#Finally, the code prints a message that displays the odd numbers by using the print() function to concatenate the string \"Odd numbers are: \" with the list of odd numbers (odd_number) that was obtained from the filter() function.\n",
    "\n",
    "#When you run this code, the output will be:"
   ]
  },
  {
   "cell_type": "code",
   "execution_count": 2,
   "id": "783c0ce3",
   "metadata": {},
   "outputs": [
    {
     "name": "stdout",
     "output_type": "stream",
     "text": [
      "factorial of a number is: 362880\n"
     ]
    }
   ],
   "source": [
    "#Q9 WAP for factorial using recurrsion\n",
    "\n",
    "def factorial(no):\n",
    "    if no == 0:\n",
    "        return 1\n",
    "    else:\n",
    "        return no * factorial(no - 1)\n",
    "print(\"factorial of a number is:\", factorial(9))\n",
    "\n"
   ]
  },
  {
   "cell_type": "markdown",
   "id": "db0c1024",
   "metadata": {},
   "source": [
    "This is a Python code that defines a recursive function factorial(no) that takes an integer no as input and returns its factorial.\n",
    "In mathematics, the factorial of a non-negative integer n is the product of all positive integers less than or equal to n. \n",
    "By convention, the factorial of 0 is 1.\n",
    "The function factorial(no) uses recursion to compute the factorial of no.\n",
    "If no is 0, the function returns 1 (since the factorial of 0 is 1). \n",
    "Otherwise, it computes the factorial of no-1 by calling itself recursively with no-1 as the argument, and multiplies the result by no.\n",
    "#In this code, the function factorial(9) is called to compute the factorial of 9. \n",
    "When you run this code, the output will be: 362880\n",
    "\n",
    "explanation:\n",
    "The function factorial(9) is called to compute the factorial of 9.\n",
    "Since 9 is not 0, the function computes the factorial of 8 by calling itself recursively with 8 as the argument, and multiplies the result by 9.\n",
    "Since 8 is not 0, the function computes the factorial of 7 by calling itself recursively with 7 as the argument,\n",
    "and multiplies the result by 8. This process continues until no becomes 0, at which point the function returns 1.\n",
    "Finally, the result (362880) is printed using the print() function."
   ]
  },
  {
   "cell_type": "code",
   "execution_count": 19,
   "id": "7a9706b2",
   "metadata": {},
   "outputs": [
    {
     "name": "stdout",
     "output_type": "stream",
     "text": [
      "55\n"
     ]
    }
   ],
   "source": [
    "#Q10 WAP for fibonacci series using recursion using one of the memoization technique\n",
    "\n",
    "nums={}\n",
    "def fibonacci(n):\n",
    "    if n<=2:\n",
    "        return 1\n",
    "    if n in nums:\n",
    "        return nums[n]\n",
    "    else:\n",
    "        return fibonacci(n-1)+fibonacci(n-2)\n",
    "        nums[n]=num\n",
    "        return num\n",
    "    \n",
    "print(fibonacci(10))\n",
    "\n"
   ]
  },
  {
   "cell_type": "markdown",
   "id": "9d4f4271",
   "metadata": {},
   "source": [
    "The function fibonacci(n) uses recursion to compute the n-th Fibonacci number. \n",
    "If n is less than or equal to 2, the function returns 1.\n",
    "Otherwise, it checks if the value of n has already been computed and stored in a dictionary called nums.\n",
    "This is a Python code that defines a recursive function fibonacci(n) that takes an integer n as input and returns the n-th Fibonacci number.\n",
    "In the Fibonacci sequence, each number is the sum of the two preceding ones, starting from 0 and 1.\n",
    "That is, the first two numbers in the Fibonacci sequence are 0 and 1, an\n",
    "each subsequent number is the sum of the previous two.\n",
    "The first few numbers in the sequence are: 0, 1, 1, 2, 3, 5, 8, 13, 21, ....\n",
    "If it has, the function returns the value from the dictionary.\n",
    "If it has not, the function computes the value recursively as the sum of the n-1-th and n-2-th Fibonacci numbers,\n",
    "stores the result in the dictionary, and returns it\n",
    "In this code, the fibonacci(10) function is called to compute the 10th Fibonacci number. \n",
    "\n",
    "#EXPLANATION:\n",
    "The function fibonacci(10) is called to compute the 10th Fibonacci number.\n",
    "The function computes the value of the 10th Fibonacci number recursively as the sum of the 9th and 8th Fibonacci numbers.\n",
    "Since the 9th and 8th Fibonacci numbers have not yet been computed, the function recursively computes them as \n",
    "the sum of the 8th and 7th, and the 7th and 6th Fibonacci numbers, respectively.\n",
    "This process continues until the function computes the 1st and 2nd Fibonacci numbers, which are both 1.\n",
    "The function stores the computed Fibonacci numbers in a dictionary called nums to avoid recomputing them in the future.\n",
    "Finally, the function returns the value of the 10th Fibonacci number, which is 55.\n"
   ]
  },
  {
   "cell_type": "code",
   "execution_count": 5,
   "id": "98542309",
   "metadata": {},
   "outputs": [
    {
     "data": {
      "text/plain": [
       "('banana', 8)"
      ]
     },
     "execution_count": 5,
     "metadata": {},
     "output_type": "execute_result"
    }
   ],
   "source": [
    "#Q11.Item with highest value count\n",
    "\n",
    "items = [{'apple': 5}, {'banana': 8}, {'orange': 7}, {'grapes': 4}]\n",
    "def itemWithHighestValue(items):\n",
    "    pass\n",
    "z={}\n",
    "for d in items:\n",
    "    z.update(d)\n",
    "z.items()\n",
    "s=sorted(z.items(),key=lambda tup:tup[1])\n",
    "s[-1]\n",
    "\n"
   ]
  },
  {
   "cell_type": "markdown",
   "id": "64e87f43",
   "metadata": {},
   "source": [
    "The code above is a Python script that finds the item with the highest value in a list of dictionaries items. Here's what the code does step by step:\n",
    "\n",
    "items = [{'apple': 5}, {'banana': 8}, {'orange': 7}, {'grapes': 4}]: This line creates a list of dictionaries called items.\n",
    "\n",
    "def itemWithHighestValue(items): pass: This line defines a function called itemWithHighestValue that takes a list of dictionaries items as input but does nothing.\n",
    "\n",
    "z = {}: This line initializes an empty dictionary called z.\n",
    "\n",
    "for d in items: z.update(d): This line loops through each dictionary d in the items list and updates the z dictionary with its key-value pairs.\n",
    "\n",
    "z.items(): This line returns a list of the key-value pairs in the z dictionary.\n",
    "\n",
    "s = sorted(z.items(), key=lambda tup: tup[1]): This line sorts the key-value pairs in the z dictionary by their values in ascending order and stores the sorted list in s.\n",
    "\n",
    "s[-1]: This line returns the last (highest) item in the s list, which is the item with the highest value.\n",
    "\n",
    "So, the output of the script will be the key-value pair of the item with the highest value. For example, if the items list is:\n",
    "[{'apple': 5}, {'banana': 8}, {'orange': 7}, {'grapes': 4}]\n",
    "Then the output of the script will be:\n",
    "\n",
    "('banana', 8)\n",
    "**Note that the code assumes that the value of each item is a numeric value that can be sorted in ascending order. If the values are not numeric or cannot be sorted, the code may not work as expected. Also note that the function itemWithHighestValue is not used in the code and can be removed."
   ]
  },
  {
   "cell_type": "code",
   "execution_count": 5,
   "id": "ed3db72f",
   "metadata": {},
   "outputs": [
    {
     "name": "stdout",
     "output_type": "stream",
     "text": [
      "['jay A kumar', 'Fahad Momin', 'deepak N sharma', 'mithilesh singh', 'payal vasave', 'rohit N yadav']\n"
     ]
    }
   ],
   "source": [
    "#Q12 Create a lambda function to sort the name list according to their surname.\n",
    "\n",
    "name = [\"jay A kumar\",'deepak N sharma','rohit N yadav','mithilesh singh','payal vasave','Fahad Momin']\n",
    "\n",
    "name.sort(key=lambda x: x.split(\" \")[-1].lower())\n",
    "print(name)\n",
    "\n"
   ]
  },
  {
   "cell_type": "markdown",
   "id": "10897d5e",
   "metadata": {},
   "source": [
    "#name is a list of strings that contains the names to be sorted.\n",
    "\n",
    "#sort() is a built-in Python method used to sort the elements of a list in ascending order.\n",
    "\n",
    " The \"key\" parameter is set to a lambda function that extracts the last name of each name and converts it to lowercase before sorting.\n",
    "\n",
    "split(\" \") is used to split each name into a list of words using space as the delimiter.\n",
    "\n",
    " [-1] is used to select the last element of the list, which is the last name.\n",
    "\n",
    " lower() is used to convert the last name to lowercase before sorting.\n",
    "\n",
    "#So, the output of the code would be a sorted list of names based on their last names in ascending order.\n"
   ]
  },
  {
   "cell_type": "code",
   "execution_count": 22,
   "id": "3d9b9a92",
   "metadata": {},
   "outputs": [
    {
     "name": "stdout",
     "output_type": "stream",
     "text": [
      "[('kashmir', 33.8), ('mumbai', 60.8), ('goa', 71.6), ('channai', 64.4), ('kerla', 68.0)]\n"
     ]
    }
   ],
   "source": [
    "#Q13 using map function, create a lambda expression to convert the degree celcius to fahrenheit\n",
    " #f= 9/5 x c + 32\n",
    "\n",
    "temp = [('kashmir',1),('mumbai',16),('goa',22),('channai',18),('kerla',20)]\n",
    "places = list(map(lambda c: (c[0], (9/5) * c[1]+ 32), temp))\n",
    "print(places)\n",
    "\n"
   ]
  },
  {
   "cell_type": "markdown",
   "id": "692c39a0",
   "metadata": {},
   "source": [
    "The code above creates two lists, name and roll_no, and then uses the zip() function to create a list of tuples where each tuple contains a name and its corresponding roll number. Here's what the code does step by step:\n",
    "\n",
    "name = [ \"Manjeet\", \"Nikhil\", \"Shambhavi\", \"Astha\" ]: This line creates a list of strings containing some names.\n",
    "\n",
    "roll_no = [ 4, 1, 3, 2 ]: This line creates a list of integers containing some roll numbers.\n",
    "\n",
    "mapped = zip(name, roll_no): This line uses the zip() function to combine the name and roll_no lists into a single list of tuples where each tuple contains a name and its corresponding roll number.\n",
    "\n",
    "mapped = list(mapped): This line converts the mapped object (which is a zip object) into a list so that we can print its contents.\n",
    "\n",
    "print(mapped): This line prints out the list of tuples containing the names and roll numbers.\n",
    "\n",
    "So, the output of the script will be:\n",
    "\n",
    "css\n",
    "Copy code\n",
    "[('Manjeet', 4), ('Nikhil', 1), ('Shambhavi', 3), ('Astha', 2)]\n",
    "Note that the order of the tuples in the resulting list depends on the order of the elements in the original lists. In this case, the names and roll numbers are in the order they were defined in the original lists."
   ]
  },
  {
   "cell_type": "code",
   "execution_count": 6,
   "id": "d127328b",
   "metadata": {},
   "outputs": [
    {
     "name": "stdout",
     "output_type": "stream",
     "text": [
      "[('Manjeet', 4), ('Nikhil', 1), ('Shambhavi', 3), ('Astha', 2)]\n"
     ]
    }
   ],
   "source": [
    "#Q14 Give example of zip(), abs(), round(),pow() function\n",
    "\n",
    "# a) zip()\n",
    "name = [ \"Manjeet\", \"Nikhil\", \"Shambhavi\", \"Astha\" ]\n",
    "roll_no = [ 4, 1, 3, 2 ]\n",
    "mapped = zip(name, roll_no)\n",
    "mapped = list(mapped)\n",
    "print(mapped)"
   ]
  },
  {
   "cell_type": "markdown",
   "id": "e3f135fb",
   "metadata": {},
   "source": [
    "The code above creates two lists, name and roll_no, and then uses the zip() function to create a list of tuples where each tuple contains a name and its corresponding roll number. Here's what the code does step by step:\n",
    "\n",
    "name = [ \"Manjeet\", \"Nikhil\", \"Shambhavi\", \"Astha\" ]: This line creates a list of strings containing some names.\n",
    "\n",
    "roll_no = [ 4, 1, 3, 2 ]: This line creates a list of integers containing some roll numbers.\n",
    "\n",
    "mapped = zip(name, roll_no): This line uses the zip() function to combine the name and roll_no lists into a single list of tuples where each tuple contains a name and its corresponding roll number.\n",
    "\n",
    "mapped = list(mapped): This line converts the mapped object (which is a zip object) into a list so that we can print its contents.\n",
    "\n",
    "print(mapped): This line prints out the list of tuples containing the names and roll numbers.\n",
    "\n",
    "So, the output of the script will be:\n",
    "\n",
    "css\n",
    "Copy code\n",
    "[('Manjeet', 4), ('Nikhil', 1), ('Shambhavi', 3), ('Astha', 2)]\n",
    "Note that the order of the tuples in the resulting list depends on the order of the elements in the original lists. In this case, the names and roll numbers are in the order they were defined in the original lists."
   ]
  },
  {
   "cell_type": "code",
   "execution_count": 8,
   "id": "d8328e2c",
   "metadata": {},
   "outputs": [
    {
     "data": {
      "text/plain": [
       "2"
      ]
     },
     "execution_count": 8,
     "metadata": {},
     "output_type": "execute_result"
    }
   ],
   "source": [
    "#b) abs() (absolute) distance from 0 to 2nd position\n",
    "\n",
    "abs(-2)\n"
   ]
  },
  {
   "cell_type": "code",
   "execution_count": 9,
   "id": "65e1707e",
   "metadata": {},
   "outputs": [
    {
     "data": {
      "text/plain": [
       "4.88"
      ]
     },
     "execution_count": 9,
     "metadata": {},
     "output_type": "execute_result"
    }
   ],
   "source": [
    "#c) round()\n",
    "\n",
    "round(4.8765,2)"
   ]
  },
  {
   "cell_type": "code",
   "execution_count": 14,
   "id": "b45ddd54",
   "metadata": {},
   "outputs": [
    {
     "data": {
      "text/plain": [
       "3125"
      ]
     },
     "execution_count": 14,
     "metadata": {},
     "output_type": "execute_result"
    }
   ],
   "source": [
    "#d) pow() power 5**5\n",
    "\n",
    "pow(5,5)"
   ]
  },
  {
   "cell_type": "code",
   "execution_count": 2,
   "id": "888413e5",
   "metadata": {},
   "outputs": [
    {
     "name": "stdout",
     "output_type": "stream",
     "text": [
      "[11, 5, 9, 88, 303]\n"
     ]
    }
   ],
   "source": [
    "#Q15 a) apply filter to create a list of palindrome numbers from mylist\n",
    "\n",
    "mylist = [11,14,5,78,45,67,9,88,10,303]\n",
    "\n",
    "n=list(filter(lambda x:str(x)==str(x)[::-1],mylist))\n",
    "\n",
    "print(n)"
   ]
  },
  {
   "cell_type": "markdown",
   "id": "34c1a782",
   "metadata": {},
   "source": [
    "The code above is a Python script that filters out the palindrome numbers from a given list mylist. Here's what the code does step by step:\n",
    "\n",
    "mylist = [11,14,5,78,45,67,9,88,10,303]: This line creates a list of integers called mylist.\n",
    "\n",
    "lambda x:str(x)==str(x)[::-1]: This is a lambda function that takes an integer x as input, converts it to a string using str(x), and checks if the string is equal to its reverse (i.e., if the number is a palindrome).\n",
    "\n",
    "filter(lambda x:str(x)==str(x)[::-1],mylist): This line applies the lambda function to each element in the mylist list using the filter() function. The filter() function returns an iterator that only contains the elements of the input sequence for which the lambda function returns True.\n",
    "\n",
    "n=list(...): This line converts the result of the filter() function to a list and assigns it to the variable n.\n",
    "\n",
    "print(n): This line prints the contents of the n list.\n",
    "\n",
    "So, the output of the script will be a list of integers that are palindrome numbers from the mylist list. For example:\n"
   ]
  },
  {
   "cell_type": "code",
   "execution_count": 4,
   "id": "dbfd6579",
   "metadata": {},
   "outputs": [
    {
     "name": "stdout",
     "output_type": "stream",
     "text": [
      "Numbers divisible by 3 or 5 are [5, 78, 45, 9, 10, 303]\n"
     ]
    }
   ],
   "source": [
    "#Q15 b)apply filter to create a list of numbers divisible by 3 or 5 from the mylist\n",
    "\n",
    "\n",
    "mylist = [11,14,5,78,45,67,9,88,10,303]\n",
    "result = list(filter(lambda x: (x % 3 == 0 or x % 5 == 0 ), mylist))\n",
    "print(\"Numbers divisible by 3 or 5 are\",result)"
   ]
  },
  {
   "cell_type": "markdown",
   "id": "ee039571",
   "metadata": {},
   "source": [
    "The code above is a Python script that filters out the numbers from a given list mylist that are divisible by 3 or 5. Here's what the code does step by step:\n",
    "\n",
    "mylist = [11,14,5,78,45,67,9,88,10,303]: This line creates a list of integers called mylist.\n",
    "\n",
    "lambda x: (x % 3 == 0 or x % 5 == 0 ): This is a lambda function that takes an integer x as input, and checks if the integer is divisible by either 3 or 5. If it is divisible, the lambda function returns True, otherwise it returns False.\n",
    "\n",
    "filter(lambda x: (x % 3 == 0 or x % 5 == 0 ), mylist): This line applies the lambda function to each element in the mylist list using the filter() function. The filter() function returns an iterator that only contains the elements of the input sequence for which the lambda function returns True.\n",
    "\n",
    "result = list(...): This line converts the result of the filter() function to a list and assigns it to the variable result.\n",
    "\n",
    "print(\"Numbers divisible by 3 or 5 are\",result): This line prints a message along with the contents of the result list.\n",
    "\n",
    "So, the output of the script will be a list of integers that are divisible by either 3 or 5 from the mylist list. For example:\n",
    "\n",
    "csharp\n",
    "Copy code\n",
    "Numbers divisible by 3 or 5 are [5, 78, 45, 9, 10, 303]\n",
    "Note that the numbers 5, 78, 45, 9, 10, and 303 are divisible by either 3 or 5. The other numbers in the mylist list are not divisible by either 3 or 5."
   ]
  },
  {
   "cell_type": "code",
   "execution_count": 7,
   "id": "58f63bdf",
   "metadata": {},
   "outputs": [
    {
     "name": "stdout",
     "output_type": "stream",
     "text": [
      "[5, 9, 10, 11, 14, 45, 67, 78, 88, 303]\n"
     ]
    }
   ],
   "source": [
    "#Q16 WAP to find maximum number from the list without using function and slicing or sorting\n",
    "    #function\n",
    "    \n",
    "mylist = [11,14,5,78,45,67,9,88,10,303]\n",
    "newlist = []\n",
    "\n",
    "while mylist:\n",
    "    minimum = mylist[0]  \n",
    "    for i in mylist: \n",
    "        if i < minimum:\n",
    "            minimum = i\n",
    "    newlist.append(minimum)\n",
    "    mylist.remove(minimum) \n",
    "print (newlist)"
   ]
  },
  {
   "cell_type": "markdown",
   "id": "67bcc400",
   "metadata": {},
   "source": [
    "The code above is a Python script that sorts a given list mylist in ascending order using the selection sort algorithm. Here's what the code does step by step:\n",
    "\n",
    "mylist = [11,14,5,78,45,67,9,88,10,303]: This line creates a list of integers called mylist.\n",
    "\n",
    "newlist = []: This line creates an empty list called newlist that will be used to store the sorted list.\n",
    "\n",
    "while mylist:: This line starts a while loop that will execute as long as the mylist list is not empty.\n",
    "\n",
    "minimum = mylist[0]: This line initializes the variable minimum to the first element of the mylist list.\n",
    "\n",
    "for i in mylist:: This line starts a for loop that iterates over each element in the mylist list.\n",
    "\n",
    "if i < minimum:: This line checks if the current element i is less than the current minimum value stored in the minimum variable.\n",
    "\n",
    "minimum = i: This line updates the minimum variable to the new minimum value if i is less than the current minimum value.\n",
    "\n",
    "newlist.append(minimum): This line appends the current minimum value to the newlist list.\n",
    "\n",
    "mylist.remove(minimum): This line removes the current minimum value from the mylist list.\n",
    "\n",
    "print(newlist): This line prints the sorted list stored in the newlist variable.\n",
    "\n",
    "So, the output of the script will be a sorted list of integers in ascending order.\n",
    "For example:\n",
    "[5, 9, 10, 11, 14, 45, 67, 78, 88, 303]\n",
    "**Note that the code uses the selection sort algorithm to sort the list. The selection sort algorithm works by finding the smallest element in the list and moving it to the front, then repeating the process with the remaining elements until the list is sorted."
   ]
  },
  {
   "cell_type": "code",
   "execution_count": 10,
   "id": "c940de23",
   "metadata": {},
   "outputs": [
    {
     "name": "stdout",
     "output_type": "stream",
     "text": [
      "Hello James Buchanan Barnes\n",
      "Hello Abhishek Kunal Vinita\n"
     ]
    }
   ],
   "source": [
    "def name(*name):\n",
    "    print(\"Hello\", name[0], name[1], name[2])\n",
    "name(\"James\", \"Buchanan\", \"Barnes\")\n",
    "name(\"Abhishek\",\"Kunal\",\"Vinita\")"
   ]
  },
  {
   "cell_type": "markdown",
   "id": "89a197ea",
   "metadata": {},
   "source": [
    "The code above is a Python script that defines a function called name that takes in a variable number of arguments using the *args syntax. Here's what the code does step by step:\n",
    "\n",
    "def name(*name):: This line defines a function called name that takes in a variable number of arguments and stores them in a tuple called name.\n",
    "\n",
    "print(\"Hello\", name[0], name[1], name[2]): This line prints out a greeting message that includes the first three arguments passed to the function.\n",
    "\n",
    "name(\"James\", \"Buchanan\", \"Barnes\"): This line calls the name function with three arguments: \"James\", \"Buchanan\", and \"Barnes\". The function then prints out a greeting message that includes \"James\", \"Buchanan\", and \"Barnes\".\n",
    "\n",
    "name(\"Abhishek\", \"Kunal\", \"Vinita\"): This line calls the name function with three different arguments: \"Abhishek\", \"Kunal\", and \"Vinita\". The function then prints out a greeting message that includes \"Abhishek\", \"Kunal\", and \"Vinita\".\n",
    "\n",
    "So, the output of the script will be:\n",
    "\n",
    "Hello James Buchanan Barnes\n",
    "Hello Abhishek Kunal Vinita\n",
    "**Note that the name function assumes that there will always be at least three arguments passed to it. If the number of arguments is less than three or more than three, the function may produce an error."
   ]
  },
  {
   "cell_type": "code",
   "execution_count": 4,
   "id": "33afa70d",
   "metadata": {},
   "outputs": [
    {
     "name": "stdout",
     "output_type": "stream",
     "text": [
      "Hello, James Buchanan Barnes\n"
     ]
    }
   ],
   "source": [
    "def name(**name)\n",
    "    print(\"Hello,\", name[\"fname\"], name[\"mname\"], name[\"lname\"])\n",
    "\n",
    "name(mname = \"Buchanan\", lname = \"Barnes\", fname = \"James\")"
   ]
  },
  {
   "cell_type": "markdown",
   "id": "830ef3b8",
   "metadata": {},
   "source": [
    "the code above defines a function called name that takes in a variable number of keyword arguments using the **kwargs syntax. Here's what the code does step by step:\n",
    "\n",
    "def name(**name):: This line defines a function called name that takes in a variable number of keyword arguments and stores them in a dictionary called name.\n",
    "\n",
    "print(\"Hello,\", name[\"fname\"], name[\"mname\"], name[\"lname\"]): This line prints out a greeting message that includes the values of the \"fname\", \"mname\", and \"lname\" keys in the name dictionary.\n",
    "\n",
    "name(mname = \"Buchanan\", lname = \"Barnes\", fname = \"James\"): This line calls the name function with three keyword arguments: \"fname\" with a value of \"James\", \"mname\" with a value of \"Buchanan\", and \"lname\" with a value of \"Barnes\". The function then prints out a greeting message that includes \"James\", \"Buchanan\", and \"Barnes\".\n",
    "\n",
    "So, the output of the script will be:\n",
    "\n",
    "Hello, James Buchanan Barnes\n",
    "Note that the order in which the keyword arguments are passed to the function does not matter, since they are stored in a dictionary and accessed using their respective keys."
   ]
  },
  {
   "cell_type": "code",
   "execution_count": 11,
   "id": "e6b267b7",
   "metadata": {},
   "outputs": [
    {
     "name": "stdout",
     "output_type": "stream",
     "text": [
      "Enter a number: 153\n",
      "The number is not a palindrome.\n"
     ]
    }
   ],
   "source": [
    "num = input(\"Enter a number: \")\n",
    "if num == num[::-1]:\n",
    "    print(\"The number is a palindrome.\")\n",
    "else:\n",
    "    print(\"The number is not a palindrome.\")"
   ]
  },
  {
   "cell_type": "markdown",
   "id": "c9ed17f7",
   "metadata": {},
   "source": [
    "The code above prompts the user to enter a number and then checks if the number is a palindrome. Here's what the code does step by step:\n",
    "\n",
    "num = input(\"Enter a number: \"): This line prompts the user to enter a number and stores it as a string in the num variable.\n",
    "\n",
    "if num == num[::-1]:: This line checks if the num string is equal to its reverse. The [::-1] syntax is used to reverse the string.\n",
    "\n",
    "print(\"The number is a palindrome.\"): This line is executed if the num string is a palindrome. It prints out a message saying that the number is a palindrome.\n",
    "\n",
    "else:: This line is executed if the num string is not a palindrome.\n",
    "\n",
    "print(\"The number is not a palindrome.\"): This line prints out a message saying that the number is not a palindrome.\n",
    "\n",
    "So, if the user enters a palindrome number like \"121\", the output will be:\n",
    "\n",
    "Enter a number: 121\n",
    "The number is a palindrome.\n",
    "If the user enters a non-palindrome number like \"123\", the output will be:\n",
    "\n",
    "Enter a number: 123\n",
    "The number is not a palindrome.\n"
   ]
  }
 ],
 "metadata": {
  "kernelspec": {
   "display_name": "Python 3 (ipykernel)",
   "language": "python",
   "name": "python3"
  },
  "language_info": {
   "codemirror_mode": {
    "name": "ipython",
    "version": 3
   },
   "file_extension": ".py",
   "mimetype": "text/x-python",
   "name": "python",
   "nbconvert_exporter": "python",
   "pygments_lexer": "ipython3",
   "version": "3.9.12"
  }
 },
 "nbformat": 4,
 "nbformat_minor": 5
}
